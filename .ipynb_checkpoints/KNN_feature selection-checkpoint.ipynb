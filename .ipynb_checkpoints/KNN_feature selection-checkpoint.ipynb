{
 "cells": [
  {
   "cell_type": "code",
   "execution_count": 1,
   "metadata": {},
   "outputs": [],
   "source": [
    "import numpy as np\n",
    "import pandas as pd\n",
    "\n",
    "import matplotlib.pyplot as plt\n",
    "%matplotlib inline\n",
    "\n",
    "import seaborn as sns\n",
    "\n",
    "from sklearn.model_selection import train_test_split\n",
    "from sklearn.linear_model import LassoCV, LinearRegression\n",
    "from sklearn.tree import DecisionTreeRegressor\n",
    "from sklearn.ensemble import AdaBoostRegressor, ExtraTreesRegressor, RandomForestRegressor\n",
    "from sklearn.neighbors import KNeighborsRegressor\n",
    "\n",
    "\n",
    "sns.set(color_codes=True)"
   ]
  },
  {
   "cell_type": "code",
   "execution_count": null,
   "metadata": {},
   "outputs": [],
   "source": [
    "def mse(y_test, y_true):\n",
    "    return np.mean((y_test - y_true) ** 2)\n",
    "\n",
    "def expo_fit(y):\n",
    "    x = np.arange(-y.shape[0], 0)\n",
    "    return np.exp(np.polyfit(x, np.log(y), 1)[1])"
   ]
  },
  {
   "cell_type": "markdown",
   "metadata": {},
   "source": [
    "### Step I: Import the data that has already been cleaned and merged"
   ]
  },
  {
   "cell_type": "code",
   "execution_count": null,
   "metadata": {},
   "outputs": [],
   "source": [
    "data = pd.read_csv(\"all_in_1.csv\")\n",
    "\n",
    "X, y = data.drop(columns=['4/18/20']), data['4/18/20']"
   ]
  },
  {
   "cell_type": "markdown",
   "metadata": {},
   "source": [
    "### Step II: Visualizations (Feel free to skip this part if you want)"
   ]
  },
  {
   "cell_type": "code",
   "execution_count": null,
   "metadata": {},
   "outputs": [],
   "source": [
    "results = []\n",
    "for j in range(86,89):\n",
    "    result = []\n",
    "    for i in range(j-12, j-2):\n",
    "        y_mat = X.iloc[:,i:j].to_numpy()\n",
    "        exp_predict = np.apply_along_axis(expo_fit, 1, y_mat)\n",
    "        exp_predict[np.isnan(exp_predict)] = 0\n",
    "        result.append(mse(exp_predict, X.iloc[:,j]))\n",
    "    results.append(result)\n",
    "\n",
    "# special handling for interpolating 4/18/20 data\n",
    "result = []\n",
    "for i in range(78, 88):\n",
    "    y_mat = X.iloc[:,i:90].to_numpy()\n",
    "    exp_predict = np.apply_along_axis(expo_fit, 1, y_mat)\n",
    "    exp_predict[np.isnan(exp_predict)] = 0\n",
    "    result.append(mse(exp_predict, y))\n",
    "\n",
    "results.append(result)"
   ]
  },
  {
   "cell_type": "code",
   "execution_count": null,
   "metadata": {},
   "outputs": [],
   "source": [
    "x = np.arange(11, 1, -1)\n",
    "labels = ['4/15/20', '4/16/20', '4/17/20', '4/18/20']\n",
    "plt.figure(figsize=(8, 4))\n",
    "for i in range(4):\n",
    "    plt.plot(x, results[i], label=labels[i])\n",
    "plt.legend()\n",
    "plt.ylabel(\"mse of interpolation\")\n",
    "plt.xlabel(\"# of days used in interpolation\")\n",
    "plt.title(\"performance of exponential interpolation v.s. # of previous days used\", fontsize=14);"
   ]
  },
  {
   "cell_type": "code",
   "execution_count": null,
   "metadata": {},
   "outputs": [],
   "source": [
    "plt.figure(figsize=(16, 6))\n",
    "plt.subplot(1, 2, 1)\n",
    "sns.distplot(y[y < np.percentile(y, 80)], kde=False)\n",
    "plt.xlabel(\"Confirmed cases in 4/18/20\")\n",
    "plt.ylabel(\"Frequency\")\n",
    "plt.title(\"Figure A: distribution of confirmed cases for counties < 80 percentile\");\n",
    "\n",
    "plt.subplot(1, 2, 2)\n",
    "sns.scatterplot(x=\"4/18/20\", y=\"PopulationEstimate2018\", data=data)\n",
    "plt.xlabel(\"Confirmed cases in 4/18/20\")\n",
    "plt.title(\"Figure B: distplot of confirmed cases v.s. population\");"
   ]
  },
  {
   "cell_type": "code",
   "execution_count": null,
   "metadata": {},
   "outputs": [],
   "source": [
    "X.shape"
   ]
  },
  {
   "cell_type": "markdown",
   "metadata": {},
   "source": [
    "### 2.5 Feature Selection using KNN"
   ]
  },
  {
   "cell_type": "code",
   "execution_count": null,
   "metadata": {},
   "outputs": [],
   "source": [
    "X_KNN, y_KNN = data.loc[:, ['Lat_x', 'Long_']], data['4/18/20']"
   ]
  },
  {
   "cell_type": "code",
   "execution_count": null,
   "metadata": {},
   "outputs": [],
   "source": [
    "def dist_metric(loc1, loc2):\n",
    "    lat1, lon1, lat2, lon2  = loc1[0], loc1[1], loc2[0], loc2[1]\n",
    "    p = 0.017453292519943295 # Pi / 180\n",
    "    a = 0.5 - np.cos((lat2 - lat1) * p) / 2 + np.cos(lat1 * p) * np.cos(lat2 * p) * \\\n",
    "    (1 - np.cos((lon2 - lon1) * p)) / 2\n",
    "    return 12742 * np.arcsin(a ** 2) # 12742 = 2 * R"
   ]
  },
  {
   "cell_type": "code",
   "execution_count": null,
   "metadata": {},
   "outputs": [],
   "source": [
    "neigh = KNeighborsRegressor(n_neighbors=2, weights = 'distance', metric = dist_metric)\n",
    "neigh.fit(X_KNN, y_KNN)\n"
   ]
  },
  {
   "cell_type": "code",
   "execution_count": null,
   "metadata": {
    "scrolled": true
   },
   "outputs": [],
   "source": [
    "# testing \n",
    "neighbours = list(neigh.kneighbors([[32.539527, -86.644082]])[1][0]) + list(neigh.kneighbors([[45.898386, -91.790504]])[1][0])\n",
    "neighbour_locations = X.loc[neighbours, :]\n",
    "\n",
    "fig, ax = plt.subplots(figsize=(7, 5))\n",
    "ax = sns.scatterplot(x=\"Long_\", y=\"Lat_x\", data=neighbour_locations)\n",
    "\n",
    "plt.xlabel('lat')\n",
    "plt.ylabel('long')\n",
    "plt.title('counties by position')"
   ]
  },
  {
   "cell_type": "code",
   "execution_count": null,
   "metadata": {},
   "outputs": [],
   "source": [
    "clusters = neigh.kneighbors()[1]"
   ]
  },
  {
   "cell_type": "code",
   "execution_count": null,
   "metadata": {},
   "outputs": [],
   "source": [
    "neighbour_dict = {i: clusters[i] for i in X.index}"
   ]
  },
  {
   "cell_type": "code",
   "execution_count": null,
   "metadata": {},
   "outputs": [],
   "source": [
    "# ref_pop is the poplation of the county being referenced to, neigh_pop is the population of one of its neighbor counties\n",
    "# counts, neigh_pops are np arrays, ref_pop is is an integer\n",
    "def normalize_by_pop(stat_mat, neigh_pops, ref_pop):\n",
    "    factors = [ref_pop/n_pop for n_pop in neigh_pops]\n",
    "    weighted_sums = stat_mat @ factors\n",
    "    return list(weighted_sums / len(neigh_pops))\n",
    " \n",
    "\n",
    "f = ['4/15/20','4/16/20','4/17/20']\n",
    "f_new = ['4/15/20_neigh_nor','4/16/20_neigh_nor','4/17/20_neigh_nor']\n",
    "\n",
    "new_feature_list = []\n"
   ]
  },
  {
   "cell_type": "code",
   "execution_count": null,
   "metadata": {},
   "outputs": [],
   "source": [
    "for i in X.index:\n",
    "    neigh_id = neighbour_dict.get(i)\n",
    "\n",
    "    ref_pop = X.loc[i, 'PopulationEstimate2018']\n",
    "    neigh_pops = X.loc[neigh_id, 'PopulationEstimate2018']\n",
    "    stat_matrix = np.transpose(X.loc[neigh_id, f]) # a len(f) by num_neigh matrix\n",
    "    \n",
    "    new_feature_list.append(normalize_by_pop(stat_matrix, neigh_pops, ref_pop))"
   ]
  },
  {
   "cell_type": "code",
   "execution_count": null,
   "metadata": {},
   "outputs": [],
   "source": [
    "new_feature_df = pd.DataFrame(np.array(new_feature_list), columns=f_new)\n",
    "\n",
    "X_new = pd.concat([X, new_feature_df], axis=1)"
   ]
  },
  {
   "cell_type": "markdown",
   "metadata": {},
   "source": [
    "### 3. Simple Regressors (LinearRegression v.s. DecisionTree)"
   ]
  },
  {
   "cell_type": "code",
   "execution_count": null,
   "metadata": {},
   "outputs": [],
   "source": [
    "features = ['4/15/20', \n",
    "            '4/16/20', \n",
    "            '4/17/20', \n",
    "            'dem_to_rep_ratio', \n",
    "            'PopulationDensityperSqMile2010', \n",
    "            'public schools',\n",
    "            'FracMale2017',\n",
    "            'DiabetesPercentage',\n",
    "            'People_Tested',\n",
    "            'HeartDiseaseMortality'] + f_new\n",
    "X_train, X_test, y_train, y_test = train_test_split(X_new[features], y, test_size=0.1, random_state=42)"
   ]
  },
  {
   "cell_type": "code",
   "execution_count": null,
   "metadata": {},
   "outputs": [],
   "source": [
    "linear_regr = LinearRegression(normalize=True)\n",
    "linear_regr.fit(X_train, y_train)\n",
    "\n",
    "tree_regr = DecisionTreeRegressor(max_depth=20, random_state=80)\n",
    "tree_regr.fit(X_train, y_train)\n",
    "\n",
    "linear_pred = np.round(np.maximum(0, linear_regr.predict(X_test)))\n",
    "linear_mse = mse(linear_pred, y_test)\n",
    "tree_pred = np.round(tree_regr.predict(X_test))\n",
    "tree_mse = mse(tree_pred, y_test)\n",
    "\n",
    "linear_mse, tree_mse"
   ]
  },
  {
   "cell_type": "markdown",
   "metadata": {},
   "source": [
    "#### Check the mse for prediction of counties with small confirmed cases"
   ]
  },
  {
   "cell_type": "code",
   "execution_count": null,
   "metadata": {},
   "outputs": [],
   "source": [
    "small_indices = np.argwhere(y_test < 50).flatten()\n",
    "a = y_test.to_numpy()[small_indices]\n",
    "\"\"\"\n",
    "Linear\n",
    "\"\"\"\n",
    "b = linear_pred[small_indices]\n",
    "\"\"\"\n",
    "Decision Tree\n",
    "\"\"\"\n",
    "c = tree_pred[small_indices]\n",
    "\n",
    "print(f\"Linear mse: {mse(a, b)}, Tree mse: {mse(a, c)}\")"
   ]
  },
  {
   "cell_type": "code",
   "execution_count": null,
   "metadata": {},
   "outputs": [],
   "source": [
    "big_indices = np.argwhere(y_test >= 50).flatten()\n",
    "a = y_test.to_numpy()[big_indices]\n",
    "\"\"\"\n",
    "Linear\n",
    "\"\"\"\n",
    "b = linear_pred[big_indices]\n",
    "\"\"\"\n",
    "Decision Tree\n",
    "\"\"\"\n",
    "c = tree_pred[big_indices]\n",
    "\n",
    "print(f\"Linear mse: {mse(a, b)}, Tree mse: {mse(a, c)}\")"
   ]
  },
  {
   "cell_type": "code",
   "execution_count": null,
   "metadata": {},
   "outputs": [],
   "source": [
    "class finalRegressor(object):\n",
    "    def __init__(self, threshold=50, forest=False, randstate=42):\n",
    "        self.thres = threshold\n",
    "        if forest:\n",
    "            self.tree_regr = RandomForestRegressor(n_estimators=50, max_depth=20, random_state=randstate)\n",
    "        else:\n",
    "            self.tree_regr = DecisionTreeRegressor(max_depth=20, random_state=randstate)\n",
    "        self.linear_regr = LinearRegression(normalize=True)\n",
    "    \n",
    "    def fit(self, X_train, y_train):\n",
    "        self.tree_regr.fit(X_train, y_train)\n",
    "        self.linear_regr.fit(X_train, y_train)\n",
    "        self.thres_val = np.percentile(y_train, self.thres)\n",
    "    \n",
    "    def predict(self, X_test):\n",
    "        self.linear_pred = np.maximum(self.linear_regr.predict(X_test), 0)\n",
    "        self.tree_pred = self.tree_regr.predict(X_test)\n",
    "        self.cond_vec = ((self.linear_pred + self.tree_pred) / 2) < self.thres_val\n",
    "        return np.round(self.tree_pred * self.cond_vec + self.linear_pred * ~self.cond_vec)\n"
   ]
  },
  {
   "cell_type": "code",
   "execution_count": null,
   "metadata": {},
   "outputs": [],
   "source": [
    "thresh_results = []\n",
    "\n",
    "for thres in range(20, 100):\n",
    "    final_regr = finalRegressor(thres)\n",
    "    final_regr.fit(X_train, y_train)\n",
    "    final_pred = final_regr.predict(X_test)\n",
    "    thresh_results.append(mse(final_pred, y_test))"
   ]
  },
  {
   "cell_type": "code",
   "execution_count": null,
   "metadata": {},
   "outputs": [],
   "source": [
    "min(thresh_results), np.mean(thresh_results),  np.std(thresh_results)"
   ]
  },
  {
   "cell_type": "code",
   "execution_count": null,
   "metadata": {},
   "outputs": [],
   "source": [
    "thresh_results"
   ]
  },
  {
   "cell_type": "code",
   "execution_count": null,
   "metadata": {},
   "outputs": [],
   "source": [
    "plt.plot(thresh_results)"
   ]
  },
  {
   "cell_type": "code",
   "execution_count": null,
   "metadata": {},
   "outputs": [],
   "source": [
    "sns.set(style=\"whitegrid\")\n",
    "tips = sns.load_dataset(\"tips\")\n",
    "ax = sns.barplot(x=\"day\", y=\"total_bill\", data=tips)"
   ]
  }
 ],
 "metadata": {
  "kernelspec": {
   "display_name": "Python 3",
   "language": "python",
   "name": "python3"
  },
  "language_info": {
   "codemirror_mode": {
    "name": "ipython",
    "version": 3
   },
   "file_extension": ".py",
   "mimetype": "text/x-python",
   "name": "python",
   "nbconvert_exporter": "python",
   "pygments_lexer": "ipython3",
   "version": "3.7.5"
  }
 },
 "nbformat": 4,
 "nbformat_minor": 2
}
