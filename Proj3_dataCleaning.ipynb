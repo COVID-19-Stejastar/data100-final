{
 "cells": [
  {
   "cell_type": "markdown",
   "metadata": {},
   "source": [
    "# Project 3 \n",
    "## EDA"
   ]
  },
  {
   "cell_type": "markdown",
   "metadata": {},
   "source": [
    "**Project Partner**: Star Li, Setfan Li"
   ]
  },
  {
   "cell_type": "markdown",
   "metadata": {},
   "source": [
    "## Setup"
   ]
  },
  {
   "cell_type": "code",
   "execution_count": 201,
   "metadata": {},
   "outputs": [],
   "source": [
    "import numpy as np\n",
    "import pandas as pd\n",
    "\n",
    "import matplotlib.pyplot as plt\n",
    "%matplotlib inline\n",
    "\n",
    "import seaborn as sns\n",
    "sns.set(style = \"whitegrid\", \n",
    "        color_codes = True,\n",
    "        font_scale = 1.5)"
   ]
  },
  {
   "cell_type": "markdown",
   "metadata": {},
   "source": [
    "- Loading all the provided Data Frames"
   ]
  },
  {
   "cell_type": "code",
   "execution_count": 202,
   "metadata": {},
   "outputs": [],
   "source": [
    "data_state = pd.read_csv('4.18states.csv')"
   ]
  },
  {
   "cell_type": "code",
   "execution_count": 203,
   "metadata": {},
   "outputs": [],
   "source": [
    "data_counties = pd.read_csv('abridged_couties.csv')"
   ]
  },
  {
   "cell_type": "code",
   "execution_count": 204,
   "metadata": {},
   "outputs": [],
   "source": [
    "data_time_conf = pd.read_csv('time_series_covid19_confirmed_US.csv')"
   ]
  },
  {
   "cell_type": "code",
   "execution_count": 205,
   "metadata": {},
   "outputs": [],
   "source": [
    "data_time_de = pd.read_csv('time_series_covid19_deaths_US.csv')"
   ]
  },
  {
   "cell_type": "markdown",
   "metadata": {},
   "source": [
    "## Data Filtering (we only want U.S. data)"
   ]
  },
  {
   "cell_type": "markdown",
   "metadata": {},
   "source": [
    "- Based on our fist look at the data as well as the objective of our project, we decided to work with only the U.S. data since we have the most specific data regarding all the cases in the U.S. "
   ]
  },
  {
   "cell_type": "code",
   "execution_count": 206,
   "metadata": {},
   "outputs": [],
   "source": [
    "data_state = data_state.loc[data_state['Country_Region'] == 'US']"
   ]
  },
  {
   "cell_type": "code",
   "execution_count": 207,
   "metadata": {},
   "outputs": [],
   "source": [
    "data_state = data_state.rename(columns={\"Long_\": \"Long\"})"
   ]
  },
  {
   "cell_type": "code",
   "execution_count": 208,
   "metadata": {},
   "outputs": [
    {
     "data": {
      "text/html": [
       "<div>\n",
       "<style scoped>\n",
       "    .dataframe tbody tr th:only-of-type {\n",
       "        vertical-align: middle;\n",
       "    }\n",
       "\n",
       "    .dataframe tbody tr th {\n",
       "        vertical-align: top;\n",
       "    }\n",
       "\n",
       "    .dataframe thead th {\n",
       "        text-align: right;\n",
       "    }\n",
       "</style>\n",
       "<table border=\"1\" class=\"dataframe\">\n",
       "  <thead>\n",
       "    <tr style=\"text-align: right;\">\n",
       "      <th></th>\n",
       "      <th>Province_State</th>\n",
       "      <th>Country_Region</th>\n",
       "      <th>Last_Update</th>\n",
       "      <th>Lat</th>\n",
       "      <th>Long</th>\n",
       "      <th>Confirmed</th>\n",
       "      <th>Deaths</th>\n",
       "      <th>Recovered</th>\n",
       "      <th>Active</th>\n",
       "      <th>FIPS</th>\n",
       "      <th>Incident_Rate</th>\n",
       "      <th>People_Tested</th>\n",
       "      <th>People_Hospitalized</th>\n",
       "      <th>Mortality_Rate</th>\n",
       "      <th>UID</th>\n",
       "      <th>ISO3</th>\n",
       "      <th>Testing_Rate</th>\n",
       "      <th>Hospitalization_Rate</th>\n",
       "    </tr>\n",
       "  </thead>\n",
       "  <tbody>\n",
       "    <tr>\n",
       "      <th>0</th>\n",
       "      <td>Alabama</td>\n",
       "      <td>US</td>\n",
       "      <td>2020-04-18 22:32:47</td>\n",
       "      <td>32.3182</td>\n",
       "      <td>-86.9023</td>\n",
       "      <td>4712</td>\n",
       "      <td>153</td>\n",
       "      <td>NaN</td>\n",
       "      <td>4559.0</td>\n",
       "      <td>1.0</td>\n",
       "      <td>100.492717</td>\n",
       "      <td>42538.0</td>\n",
       "      <td>620.0</td>\n",
       "      <td>3.247029</td>\n",
       "      <td>84000001</td>\n",
       "      <td>USA</td>\n",
       "      <td>907.206961</td>\n",
       "      <td>13.157895</td>\n",
       "    </tr>\n",
       "    <tr>\n",
       "      <th>1</th>\n",
       "      <td>Alaska</td>\n",
       "      <td>US</td>\n",
       "      <td>2020-04-18 22:32:47</td>\n",
       "      <td>61.3707</td>\n",
       "      <td>-152.4044</td>\n",
       "      <td>314</td>\n",
       "      <td>9</td>\n",
       "      <td>147.0</td>\n",
       "      <td>305.0</td>\n",
       "      <td>2.0</td>\n",
       "      <td>52.530410</td>\n",
       "      <td>9655.0</td>\n",
       "      <td>39.0</td>\n",
       "      <td>2.866242</td>\n",
       "      <td>84000002</td>\n",
       "      <td>USA</td>\n",
       "      <td>1615.226458</td>\n",
       "      <td>12.420382</td>\n",
       "    </tr>\n",
       "    <tr>\n",
       "      <th>2</th>\n",
       "      <td>American Samoa</td>\n",
       "      <td>US</td>\n",
       "      <td>NaN</td>\n",
       "      <td>-14.2710</td>\n",
       "      <td>-170.1320</td>\n",
       "      <td>0</td>\n",
       "      <td>0</td>\n",
       "      <td>NaN</td>\n",
       "      <td>NaN</td>\n",
       "      <td>60.0</td>\n",
       "      <td>0.000000</td>\n",
       "      <td>3.0</td>\n",
       "      <td>NaN</td>\n",
       "      <td>NaN</td>\n",
       "      <td>16</td>\n",
       "      <td>ASM</td>\n",
       "      <td>5.391708</td>\n",
       "      <td>NaN</td>\n",
       "    </tr>\n",
       "    <tr>\n",
       "      <th>3</th>\n",
       "      <td>Arizona</td>\n",
       "      <td>US</td>\n",
       "      <td>2020-04-18 22:32:47</td>\n",
       "      <td>33.7298</td>\n",
       "      <td>-111.4312</td>\n",
       "      <td>4724</td>\n",
       "      <td>180</td>\n",
       "      <td>539.0</td>\n",
       "      <td>4544.0</td>\n",
       "      <td>4.0</td>\n",
       "      <td>64.901548</td>\n",
       "      <td>51045.0</td>\n",
       "      <td>566.0</td>\n",
       "      <td>3.810330</td>\n",
       "      <td>84000004</td>\n",
       "      <td>USA</td>\n",
       "      <td>701.291175</td>\n",
       "      <td>11.981372</td>\n",
       "    </tr>\n",
       "    <tr>\n",
       "      <th>4</th>\n",
       "      <td>Arkansas</td>\n",
       "      <td>US</td>\n",
       "      <td>2020-04-18 22:32:47</td>\n",
       "      <td>34.9697</td>\n",
       "      <td>-92.3731</td>\n",
       "      <td>1744</td>\n",
       "      <td>38</td>\n",
       "      <td>703.0</td>\n",
       "      <td>1706.0</td>\n",
       "      <td>5.0</td>\n",
       "      <td>67.361213</td>\n",
       "      <td>24141.0</td>\n",
       "      <td>291.0</td>\n",
       "      <td>2.178899</td>\n",
       "      <td>84000005</td>\n",
       "      <td>USA</td>\n",
       "      <td>932.435235</td>\n",
       "      <td>16.685780</td>\n",
       "    </tr>\n",
       "  </tbody>\n",
       "</table>\n",
       "</div>"
      ],
      "text/plain": [
       "   Province_State Country_Region          Last_Update      Lat      Long  \\\n",
       "0         Alabama             US  2020-04-18 22:32:47  32.3182  -86.9023   \n",
       "1          Alaska             US  2020-04-18 22:32:47  61.3707 -152.4044   \n",
       "2  American Samoa             US                  NaN -14.2710 -170.1320   \n",
       "3         Arizona             US  2020-04-18 22:32:47  33.7298 -111.4312   \n",
       "4        Arkansas             US  2020-04-18 22:32:47  34.9697  -92.3731   \n",
       "\n",
       "   Confirmed  Deaths  Recovered  Active  FIPS  Incident_Rate  People_Tested  \\\n",
       "0       4712     153        NaN  4559.0   1.0     100.492717        42538.0   \n",
       "1        314       9      147.0   305.0   2.0      52.530410         9655.0   \n",
       "2          0       0        NaN     NaN  60.0       0.000000            3.0   \n",
       "3       4724     180      539.0  4544.0   4.0      64.901548        51045.0   \n",
       "4       1744      38      703.0  1706.0   5.0      67.361213        24141.0   \n",
       "\n",
       "   People_Hospitalized  Mortality_Rate       UID ISO3  Testing_Rate  \\\n",
       "0                620.0        3.247029  84000001  USA    907.206961   \n",
       "1                 39.0        2.866242  84000002  USA   1615.226458   \n",
       "2                  NaN             NaN        16  ASM      5.391708   \n",
       "3                566.0        3.810330  84000004  USA    701.291175   \n",
       "4                291.0        2.178899  84000005  USA    932.435235   \n",
       "\n",
       "   Hospitalization_Rate  \n",
       "0             13.157895  \n",
       "1             12.420382  \n",
       "2                   NaN  \n",
       "3             11.981372  \n",
       "4             16.685780  "
      ]
     },
     "execution_count": 208,
     "metadata": {},
     "output_type": "execute_result"
    }
   ],
   "source": [
    "data_state.head(5)"
   ]
  },
  {
   "cell_type": "markdown",
   "metadata": {},
   "source": [
    "## Data Cleaning"
   ]
  },
  {
   "cell_type": "markdown",
   "metadata": {},
   "source": [
    "### 1. \"4.18state\""
   ]
  },
  {
   "cell_type": "markdown",
   "metadata": {},
   "source": [
    "- We fist divide the data into edge case (placeselike Diamond Princess that does not have lat and long) and general case"
   ]
  },
  {
   "cell_type": "code",
   "execution_count": 209,
   "metadata": {},
   "outputs": [],
   "source": [
    "edge_case = data_state[data_state['Lat'].isnull()]"
   ]
  },
  {
   "cell_type": "code",
   "execution_count": 210,
   "metadata": {
    "scrolled": true
   },
   "outputs": [
    {
     "data": {
      "text/html": [
       "<div>\n",
       "<style scoped>\n",
       "    .dataframe tbody tr th:only-of-type {\n",
       "        vertical-align: middle;\n",
       "    }\n",
       "\n",
       "    .dataframe tbody tr th {\n",
       "        vertical-align: top;\n",
       "    }\n",
       "\n",
       "    .dataframe thead th {\n",
       "        text-align: right;\n",
       "    }\n",
       "</style>\n",
       "<table border=\"1\" class=\"dataframe\">\n",
       "  <thead>\n",
       "    <tr style=\"text-align: right;\">\n",
       "      <th></th>\n",
       "      <th>Province_State</th>\n",
       "      <th>Country_Region</th>\n",
       "      <th>Last_Update</th>\n",
       "      <th>Lat</th>\n",
       "      <th>Long</th>\n",
       "      <th>Confirmed</th>\n",
       "      <th>Deaths</th>\n",
       "      <th>Recovered</th>\n",
       "      <th>Active</th>\n",
       "      <th>FIPS</th>\n",
       "      <th>Incident_Rate</th>\n",
       "      <th>People_Tested</th>\n",
       "      <th>People_Hospitalized</th>\n",
       "      <th>Mortality_Rate</th>\n",
       "      <th>UID</th>\n",
       "      <th>ISO3</th>\n",
       "      <th>Testing_Rate</th>\n",
       "      <th>Hospitalization_Rate</th>\n",
       "    </tr>\n",
       "  </thead>\n",
       "  <tbody>\n",
       "    <tr>\n",
       "      <th>9</th>\n",
       "      <td>Diamond Princess</td>\n",
       "      <td>US</td>\n",
       "      <td>2020-04-18 22:32:47</td>\n",
       "      <td>NaN</td>\n",
       "      <td>NaN</td>\n",
       "      <td>49</td>\n",
       "      <td>0</td>\n",
       "      <td>0.0</td>\n",
       "      <td>49.0</td>\n",
       "      <td>88888.0</td>\n",
       "      <td>NaN</td>\n",
       "      <td>NaN</td>\n",
       "      <td>NaN</td>\n",
       "      <td>0.0</td>\n",
       "      <td>84088888</td>\n",
       "      <td>USA</td>\n",
       "      <td>NaN</td>\n",
       "      <td>NaN</td>\n",
       "    </tr>\n",
       "    <tr>\n",
       "      <th>13</th>\n",
       "      <td>Grand Princess</td>\n",
       "      <td>US</td>\n",
       "      <td>2020-04-18 22:32:47</td>\n",
       "      <td>NaN</td>\n",
       "      <td>NaN</td>\n",
       "      <td>103</td>\n",
       "      <td>0</td>\n",
       "      <td>0.0</td>\n",
       "      <td>103.0</td>\n",
       "      <td>99999.0</td>\n",
       "      <td>NaN</td>\n",
       "      <td>NaN</td>\n",
       "      <td>NaN</td>\n",
       "      <td>0.0</td>\n",
       "      <td>84099999</td>\n",
       "      <td>USA</td>\n",
       "      <td>NaN</td>\n",
       "      <td>NaN</td>\n",
       "    </tr>\n",
       "    <tr>\n",
       "      <th>116</th>\n",
       "      <td>Recovered</td>\n",
       "      <td>US</td>\n",
       "      <td>NaN</td>\n",
       "      <td>NaN</td>\n",
       "      <td>NaN</td>\n",
       "      <td>0</td>\n",
       "      <td>0</td>\n",
       "      <td>64840.0</td>\n",
       "      <td>-64840.0</td>\n",
       "      <td>NaN</td>\n",
       "      <td>NaN</td>\n",
       "      <td>NaN</td>\n",
       "      <td>NaN</td>\n",
       "      <td>NaN</td>\n",
       "      <td>84070001</td>\n",
       "      <td>USA</td>\n",
       "      <td>NaN</td>\n",
       "      <td>NaN</td>\n",
       "    </tr>\n",
       "  </tbody>\n",
       "</table>\n",
       "</div>"
      ],
      "text/plain": [
       "       Province_State Country_Region          Last_Update  Lat  Long  \\\n",
       "9    Diamond Princess             US  2020-04-18 22:32:47  NaN   NaN   \n",
       "13     Grand Princess             US  2020-04-18 22:32:47  NaN   NaN   \n",
       "116         Recovered             US                  NaN  NaN   NaN   \n",
       "\n",
       "     Confirmed  Deaths  Recovered   Active     FIPS  Incident_Rate  \\\n",
       "9           49       0        0.0     49.0  88888.0            NaN   \n",
       "13         103       0        0.0    103.0  99999.0            NaN   \n",
       "116          0       0    64840.0 -64840.0      NaN            NaN   \n",
       "\n",
       "     People_Tested  People_Hospitalized  Mortality_Rate       UID ISO3  \\\n",
       "9              NaN                  NaN             0.0  84088888  USA   \n",
       "13             NaN                  NaN             0.0  84099999  USA   \n",
       "116            NaN                  NaN             NaN  84070001  USA   \n",
       "\n",
       "     Testing_Rate  Hospitalization_Rate  \n",
       "9             NaN                   NaN  \n",
       "13            NaN                   NaN  \n",
       "116           NaN                   NaN  "
      ]
     },
     "execution_count": 210,
     "metadata": {},
     "output_type": "execute_result"
    }
   ],
   "source": [
    "edge_case.head(10)"
   ]
  },
  {
   "cell_type": "markdown",
   "metadata": {},
   "source": [
    "- Notice that there are only three cases in the edge_case category, and those are very specially cases such as \"Diamond Princess\" and \"Grand Princess\", and the are clearly not a good representation of regional cases. So, we can safely drop these columns from our main focuse"
   ]
  },
  {
   "cell_type": "code",
   "execution_count": 211,
   "metadata": {},
   "outputs": [],
   "source": [
    "general_state = data_state[data_state['Lat'].notnull()]"
   ]
  },
  {
   "cell_type": "markdown",
   "metadata": {},
   "source": [
    "#### Cleaning up NaN values"
   ]
  },
  {
   "cell_type": "code",
   "execution_count": 212,
   "metadata": {},
   "outputs": [
    {
     "data": {
      "text/html": [
       "<div>\n",
       "<style scoped>\n",
       "    .dataframe tbody tr th:only-of-type {\n",
       "        vertical-align: middle;\n",
       "    }\n",
       "\n",
       "    .dataframe tbody tr th {\n",
       "        vertical-align: top;\n",
       "    }\n",
       "\n",
       "    .dataframe thead th {\n",
       "        text-align: right;\n",
       "    }\n",
       "</style>\n",
       "<table border=\"1\" class=\"dataframe\">\n",
       "  <thead>\n",
       "    <tr style=\"text-align: right;\">\n",
       "      <th></th>\n",
       "      <th>Province_State</th>\n",
       "      <th>Country_Region</th>\n",
       "      <th>Last_Update</th>\n",
       "      <th>Lat</th>\n",
       "      <th>Long</th>\n",
       "      <th>Confirmed</th>\n",
       "      <th>Deaths</th>\n",
       "      <th>Recovered</th>\n",
       "      <th>Active</th>\n",
       "      <th>FIPS</th>\n",
       "      <th>Incident_Rate</th>\n",
       "      <th>People_Tested</th>\n",
       "      <th>People_Hospitalized</th>\n",
       "      <th>Mortality_Rate</th>\n",
       "      <th>UID</th>\n",
       "      <th>ISO3</th>\n",
       "      <th>Testing_Rate</th>\n",
       "      <th>Hospitalization_Rate</th>\n",
       "    </tr>\n",
       "  </thead>\n",
       "  <tbody>\n",
       "    <tr>\n",
       "      <th>0</th>\n",
       "      <td>Alabama</td>\n",
       "      <td>US</td>\n",
       "      <td>2020-04-18 22:32:47</td>\n",
       "      <td>32.3182</td>\n",
       "      <td>-86.9023</td>\n",
       "      <td>4712</td>\n",
       "      <td>153</td>\n",
       "      <td>NaN</td>\n",
       "      <td>4559.0</td>\n",
       "      <td>1.0</td>\n",
       "      <td>100.492717</td>\n",
       "      <td>42538.0</td>\n",
       "      <td>620.0</td>\n",
       "      <td>3.247029</td>\n",
       "      <td>84000001</td>\n",
       "      <td>USA</td>\n",
       "      <td>907.206961</td>\n",
       "      <td>13.157895</td>\n",
       "    </tr>\n",
       "    <tr>\n",
       "      <th>2</th>\n",
       "      <td>American Samoa</td>\n",
       "      <td>US</td>\n",
       "      <td>NaN</td>\n",
       "      <td>-14.2710</td>\n",
       "      <td>-170.1320</td>\n",
       "      <td>0</td>\n",
       "      <td>0</td>\n",
       "      <td>NaN</td>\n",
       "      <td>NaN</td>\n",
       "      <td>60.0</td>\n",
       "      <td>0.000000</td>\n",
       "      <td>3.0</td>\n",
       "      <td>NaN</td>\n",
       "      <td>NaN</td>\n",
       "      <td>16</td>\n",
       "      <td>ASM</td>\n",
       "      <td>5.391708</td>\n",
       "      <td>NaN</td>\n",
       "    </tr>\n",
       "    <tr>\n",
       "      <th>5</th>\n",
       "      <td>California</td>\n",
       "      <td>US</td>\n",
       "      <td>2020-04-18 22:32:47</td>\n",
       "      <td>36.1162</td>\n",
       "      <td>-119.6816</td>\n",
       "      <td>30491</td>\n",
       "      <td>1140</td>\n",
       "      <td>NaN</td>\n",
       "      <td>29351.0</td>\n",
       "      <td>6.0</td>\n",
       "      <td>77.766063</td>\n",
       "      <td>251614.0</td>\n",
       "      <td>4892.0</td>\n",
       "      <td>3.738808</td>\n",
       "      <td>84000006</td>\n",
       "      <td>USA</td>\n",
       "      <td>641.731334</td>\n",
       "      <td>16.044079</td>\n",
       "    </tr>\n",
       "    <tr>\n",
       "      <th>6</th>\n",
       "      <td>Colorado</td>\n",
       "      <td>US</td>\n",
       "      <td>2020-04-18 22:32:47</td>\n",
       "      <td>39.0598</td>\n",
       "      <td>-105.3111</td>\n",
       "      <td>9047</td>\n",
       "      <td>389</td>\n",
       "      <td>NaN</td>\n",
       "      <td>8658.0</td>\n",
       "      <td>8.0</td>\n",
       "      <td>159.648818</td>\n",
       "      <td>43307.0</td>\n",
       "      <td>1755.0</td>\n",
       "      <td>4.299768</td>\n",
       "      <td>84000008</td>\n",
       "      <td>USA</td>\n",
       "      <td>764.221442</td>\n",
       "      <td>19.398696</td>\n",
       "    </tr>\n",
       "    <tr>\n",
       "      <th>7</th>\n",
       "      <td>Connecticut</td>\n",
       "      <td>US</td>\n",
       "      <td>2020-04-18 22:32:47</td>\n",
       "      <td>41.5978</td>\n",
       "      <td>-72.7554</td>\n",
       "      <td>17550</td>\n",
       "      <td>1086</td>\n",
       "      <td>NaN</td>\n",
       "      <td>16464.0</td>\n",
       "      <td>9.0</td>\n",
       "      <td>492.246487</td>\n",
       "      <td>55462.0</td>\n",
       "      <td>1946.0</td>\n",
       "      <td>6.188034</td>\n",
       "      <td>84000009</td>\n",
       "      <td>USA</td>\n",
       "      <td>1555.611091</td>\n",
       "      <td>11.088319</td>\n",
       "    </tr>\n",
       "  </tbody>\n",
       "</table>\n",
       "</div>"
      ],
      "text/plain": [
       "   Province_State Country_Region          Last_Update      Lat      Long  \\\n",
       "0         Alabama             US  2020-04-18 22:32:47  32.3182  -86.9023   \n",
       "2  American Samoa             US                  NaN -14.2710 -170.1320   \n",
       "5      California             US  2020-04-18 22:32:47  36.1162 -119.6816   \n",
       "6        Colorado             US  2020-04-18 22:32:47  39.0598 -105.3111   \n",
       "7     Connecticut             US  2020-04-18 22:32:47  41.5978  -72.7554   \n",
       "\n",
       "   Confirmed  Deaths  Recovered   Active  FIPS  Incident_Rate  People_Tested  \\\n",
       "0       4712     153        NaN   4559.0   1.0     100.492717        42538.0   \n",
       "2          0       0        NaN      NaN  60.0       0.000000            3.0   \n",
       "5      30491    1140        NaN  29351.0   6.0      77.766063       251614.0   \n",
       "6       9047     389        NaN   8658.0   8.0     159.648818        43307.0   \n",
       "7      17550    1086        NaN  16464.0   9.0     492.246487        55462.0   \n",
       "\n",
       "   People_Hospitalized  Mortality_Rate       UID ISO3  Testing_Rate  \\\n",
       "0                620.0        3.247029  84000001  USA    907.206961   \n",
       "2                  NaN             NaN        16  ASM      5.391708   \n",
       "5               4892.0        3.738808  84000006  USA    641.731334   \n",
       "6               1755.0        4.299768  84000008  USA    764.221442   \n",
       "7               1946.0        6.188034  84000009  USA   1555.611091   \n",
       "\n",
       "   Hospitalization_Rate  \n",
       "0             13.157895  \n",
       "2                   NaN  \n",
       "5             16.044079  \n",
       "6             19.398696  \n",
       "7             11.088319  "
      ]
     },
     "execution_count": 212,
     "metadata": {},
     "output_type": "execute_result"
    }
   ],
   "source": [
    "general_state[general_state['Recovered'].isnull()].head(5)"
   ]
  },
  {
   "cell_type": "markdown",
   "metadata": {},
   "source": [
    "- Notice that there are some NaN's columns such as \"Recovered\", \"Active\", \"Mortality_rate\", and \"Hospitalization_Rate\"\n",
    "- We know that, based on the provided README file, Active cases = total confirmed - total recovered - total deaths, we can safely fill out all the NaN's in Deaths, Recorvered, and Active with 0, since they are all mutually exclusive."
   ]
  },
  {
   "cell_type": "code",
   "execution_count": 213,
   "metadata": {},
   "outputs": [
    {
     "name": "stderr",
     "output_type": "stream",
     "text": [
      "/srv/conda/envs/data100/lib/python3.7/site-packages/pandas/core/frame.py:3509: SettingWithCopyWarning: \n",
      "A value is trying to be set on a copy of a slice from a DataFrame.\n",
      "Try using .loc[row_indexer,col_indexer] = value instead\n",
      "\n",
      "See the caveats in the documentation: http://pandas.pydata.org/pandas-docs/stable/user_guide/indexing.html#returning-a-view-versus-a-copy\n",
      "  self[k1] = value[k2]\n"
     ]
    }
   ],
   "source": [
    "general_state[['Recovered']] = general_state[['Recovered']].fillna(0)"
   ]
  },
  {
   "cell_type": "code",
   "execution_count": 214,
   "metadata": {},
   "outputs": [],
   "source": [
    "general_state[['Active']] = general_state[['Active']].fillna(0)"
   ]
  },
  {
   "cell_type": "code",
   "execution_count": 215,
   "metadata": {},
   "outputs": [],
   "source": [
    "general_state[['Mortality_Rate']] = general_state[['Mortality_Rate']].fillna(0)"
   ]
  },
  {
   "cell_type": "markdown",
   "metadata": {},
   "source": [
    "- Notice that US Hospitalization Rate (%): = Total number hospitalized / Number confirmed cases, so if the number of People_Hospitalized is NaN or 0, we can logically fill in 0 for all the NaN's in these two columns"
   ]
  },
  {
   "cell_type": "code",
   "execution_count": 216,
   "metadata": {},
   "outputs": [],
   "source": [
    "general_state[['People_Hospitalized']] = general_state[['People_Hospitalized']].fillna(0)"
   ]
  },
  {
   "cell_type": "code",
   "execution_count": 217,
   "metadata": {},
   "outputs": [],
   "source": [
    "general_state[['Hospitalization_Rate']] = general_state[['Hospitalization_Rate']].fillna(0)"
   ]
  },
  {
   "cell_type": "code",
   "execution_count": 218,
   "metadata": {
    "scrolled": true
   },
   "outputs": [
    {
     "data": {
      "text/plain": [
       "Province_State          0\n",
       "Country_Region          0\n",
       "Last_Update             1\n",
       "Lat                     0\n",
       "Long                    0\n",
       "Confirmed               0\n",
       "Deaths                  0\n",
       "Recovered               0\n",
       "Active                  0\n",
       "FIPS                    0\n",
       "Incident_Rate           0\n",
       "People_Tested           0\n",
       "People_Hospitalized     0\n",
       "Mortality_Rate          0\n",
       "UID                     0\n",
       "ISO3                    0\n",
       "Testing_Rate            0\n",
       "Hospitalization_Rate    0\n",
       "dtype: int64"
      ]
     },
     "execution_count": 218,
     "metadata": {},
     "output_type": "execute_result"
    }
   ],
   "source": [
    "general_state.isna().sum()"
   ]
  },
  {
   "cell_type": "markdown",
   "metadata": {},
   "source": [
    "- Up to this point, we see that there is only one NaN value left in the column of Last_Update"
   ]
  },
  {
   "cell_type": "code",
   "execution_count": 219,
   "metadata": {
    "scrolled": true
   },
   "outputs": [
    {
     "data": {
      "text/html": [
       "<div>\n",
       "<style scoped>\n",
       "    .dataframe tbody tr th:only-of-type {\n",
       "        vertical-align: middle;\n",
       "    }\n",
       "\n",
       "    .dataframe tbody tr th {\n",
       "        vertical-align: top;\n",
       "    }\n",
       "\n",
       "    .dataframe thead th {\n",
       "        text-align: right;\n",
       "    }\n",
       "</style>\n",
       "<table border=\"1\" class=\"dataframe\">\n",
       "  <thead>\n",
       "    <tr style=\"text-align: right;\">\n",
       "      <th></th>\n",
       "      <th>Province_State</th>\n",
       "      <th>Country_Region</th>\n",
       "      <th>Last_Update</th>\n",
       "      <th>Lat</th>\n",
       "      <th>Long</th>\n",
       "      <th>Confirmed</th>\n",
       "      <th>Deaths</th>\n",
       "      <th>Recovered</th>\n",
       "      <th>Active</th>\n",
       "      <th>FIPS</th>\n",
       "      <th>Incident_Rate</th>\n",
       "      <th>People_Tested</th>\n",
       "      <th>People_Hospitalized</th>\n",
       "      <th>Mortality_Rate</th>\n",
       "      <th>UID</th>\n",
       "      <th>ISO3</th>\n",
       "      <th>Testing_Rate</th>\n",
       "      <th>Hospitalization_Rate</th>\n",
       "    </tr>\n",
       "  </thead>\n",
       "  <tbody>\n",
       "    <tr>\n",
       "      <th>2</th>\n",
       "      <td>American Samoa</td>\n",
       "      <td>US</td>\n",
       "      <td>NaN</td>\n",
       "      <td>-14.271</td>\n",
       "      <td>-170.132</td>\n",
       "      <td>0</td>\n",
       "      <td>0</td>\n",
       "      <td>0.0</td>\n",
       "      <td>0.0</td>\n",
       "      <td>60.0</td>\n",
       "      <td>0.0</td>\n",
       "      <td>3.0</td>\n",
       "      <td>0.0</td>\n",
       "      <td>0.0</td>\n",
       "      <td>16</td>\n",
       "      <td>ASM</td>\n",
       "      <td>5.391708</td>\n",
       "      <td>0.0</td>\n",
       "    </tr>\n",
       "  </tbody>\n",
       "</table>\n",
       "</div>"
      ],
      "text/plain": [
       "   Province_State Country_Region Last_Update     Lat     Long  Confirmed  \\\n",
       "2  American Samoa             US         NaN -14.271 -170.132          0   \n",
       "\n",
       "   Deaths  Recovered  Active  FIPS  Incident_Rate  People_Tested  \\\n",
       "2       0        0.0     0.0  60.0            0.0            3.0   \n",
       "\n",
       "   People_Hospitalized  Mortality_Rate  UID ISO3  Testing_Rate  \\\n",
       "2                  0.0             0.0   16  ASM      5.391708   \n",
       "\n",
       "   Hospitalization_Rate  \n",
       "2                   0.0  "
      ]
     },
     "execution_count": 219,
     "metadata": {},
     "output_type": "execute_result"
    }
   ],
   "source": [
    "general_state[general_state['Last_Update'].isnull()]"
   ]
  },
  {
   "cell_type": "markdown",
   "metadata": {},
   "source": [
    "- Since \"American Samoa\" has such a small number of cases, it will have relatively small effect on our prediction, so we decided to remove this area to keep the consistency of our dataframe."
   ]
  },
  {
   "cell_type": "code",
   "execution_count": 220,
   "metadata": {},
   "outputs": [],
   "source": [
    "general_state = general_state[general_state['Last_Update'].notnull()]"
   ]
  },
  {
   "cell_type": "markdown",
   "metadata": {},
   "source": [
    "#### End of Data Cleaning for \"4.18state\""
   ]
  },
  {
   "cell_type": "markdown",
   "metadata": {},
   "source": [
    "### 2. Join \"abridged_couties\" with \"time_series_covid19_confirmed_US\""
   ]
  },
  {
   "cell_type": "markdown",
   "metadata": {},
   "source": [
    "- abridged_counties contains wonderful information about population health condition as well as population demograpics, and time_series_covid19_confirmed_US has a wonderful pattern of the times series of confirms in the U.S., so it would be a lot easier to select feature from this join table rather than subseting data separately from each data set when selecting features.\n",
    "- Notice that we are not cleaning up the data for the death timeserise, as our main objective is to predict the confirmed cases of the next day."
   ]
  },
  {
   "cell_type": "code",
   "execution_count": 221,
   "metadata": {
    "scrolled": true
   },
   "outputs": [
    {
     "data": {
      "text/html": [
       "<div>\n",
       "<style scoped>\n",
       "    .dataframe tbody tr th:only-of-type {\n",
       "        vertical-align: middle;\n",
       "    }\n",
       "\n",
       "    .dataframe tbody tr th {\n",
       "        vertical-align: top;\n",
       "    }\n",
       "\n",
       "    .dataframe thead th {\n",
       "        text-align: right;\n",
       "    }\n",
       "</style>\n",
       "<table border=\"1\" class=\"dataframe\">\n",
       "  <thead>\n",
       "    <tr style=\"text-align: right;\">\n",
       "      <th></th>\n",
       "      <th>UID</th>\n",
       "      <th>iso2</th>\n",
       "      <th>iso3</th>\n",
       "      <th>code3</th>\n",
       "      <th>FIPS</th>\n",
       "      <th>Admin2</th>\n",
       "      <th>Province_State</th>\n",
       "      <th>Country_Region</th>\n",
       "      <th>Lat</th>\n",
       "      <th>Long_</th>\n",
       "      <th>...</th>\n",
       "      <th>4/9/20</th>\n",
       "      <th>4/10/20</th>\n",
       "      <th>4/11/20</th>\n",
       "      <th>4/12/20</th>\n",
       "      <th>4/13/20</th>\n",
       "      <th>4/14/20</th>\n",
       "      <th>4/15/20</th>\n",
       "      <th>4/16/20</th>\n",
       "      <th>4/17/20</th>\n",
       "      <th>4/18/20</th>\n",
       "    </tr>\n",
       "  </thead>\n",
       "  <tbody>\n",
       "    <tr>\n",
       "      <th>0</th>\n",
       "      <td>16</td>\n",
       "      <td>AS</td>\n",
       "      <td>ASM</td>\n",
       "      <td>16</td>\n",
       "      <td>60.0</td>\n",
       "      <td>NaN</td>\n",
       "      <td>American Samoa</td>\n",
       "      <td>US</td>\n",
       "      <td>-14.271000</td>\n",
       "      <td>-170.132000</td>\n",
       "      <td>...</td>\n",
       "      <td>0</td>\n",
       "      <td>0</td>\n",
       "      <td>0</td>\n",
       "      <td>0</td>\n",
       "      <td>0</td>\n",
       "      <td>0</td>\n",
       "      <td>0</td>\n",
       "      <td>0</td>\n",
       "      <td>0</td>\n",
       "      <td>0</td>\n",
       "    </tr>\n",
       "    <tr>\n",
       "      <th>1</th>\n",
       "      <td>316</td>\n",
       "      <td>GU</td>\n",
       "      <td>GUM</td>\n",
       "      <td>316</td>\n",
       "      <td>66.0</td>\n",
       "      <td>NaN</td>\n",
       "      <td>Guam</td>\n",
       "      <td>US</td>\n",
       "      <td>13.444300</td>\n",
       "      <td>144.793700</td>\n",
       "      <td>...</td>\n",
       "      <td>128</td>\n",
       "      <td>130</td>\n",
       "      <td>133</td>\n",
       "      <td>133</td>\n",
       "      <td>133</td>\n",
       "      <td>133</td>\n",
       "      <td>135</td>\n",
       "      <td>135</td>\n",
       "      <td>136</td>\n",
       "      <td>136</td>\n",
       "    </tr>\n",
       "    <tr>\n",
       "      <th>2</th>\n",
       "      <td>580</td>\n",
       "      <td>MP</td>\n",
       "      <td>MNP</td>\n",
       "      <td>580</td>\n",
       "      <td>69.0</td>\n",
       "      <td>NaN</td>\n",
       "      <td>Northern Mariana Islands</td>\n",
       "      <td>US</td>\n",
       "      <td>15.097900</td>\n",
       "      <td>145.673900</td>\n",
       "      <td>...</td>\n",
       "      <td>11</td>\n",
       "      <td>11</td>\n",
       "      <td>11</td>\n",
       "      <td>11</td>\n",
       "      <td>11</td>\n",
       "      <td>11</td>\n",
       "      <td>13</td>\n",
       "      <td>13</td>\n",
       "      <td>13</td>\n",
       "      <td>14</td>\n",
       "    </tr>\n",
       "    <tr>\n",
       "      <th>3</th>\n",
       "      <td>630</td>\n",
       "      <td>PR</td>\n",
       "      <td>PRI</td>\n",
       "      <td>630</td>\n",
       "      <td>72.0</td>\n",
       "      <td>NaN</td>\n",
       "      <td>Puerto Rico</td>\n",
       "      <td>US</td>\n",
       "      <td>18.220800</td>\n",
       "      <td>-66.590100</td>\n",
       "      <td>...</td>\n",
       "      <td>683</td>\n",
       "      <td>725</td>\n",
       "      <td>788</td>\n",
       "      <td>897</td>\n",
       "      <td>903</td>\n",
       "      <td>923</td>\n",
       "      <td>974</td>\n",
       "      <td>1043</td>\n",
       "      <td>1068</td>\n",
       "      <td>1118</td>\n",
       "    </tr>\n",
       "    <tr>\n",
       "      <th>4</th>\n",
       "      <td>850</td>\n",
       "      <td>VI</td>\n",
       "      <td>VIR</td>\n",
       "      <td>850</td>\n",
       "      <td>78.0</td>\n",
       "      <td>NaN</td>\n",
       "      <td>Virgin Islands</td>\n",
       "      <td>US</td>\n",
       "      <td>18.335800</td>\n",
       "      <td>-64.896300</td>\n",
       "      <td>...</td>\n",
       "      <td>45</td>\n",
       "      <td>50</td>\n",
       "      <td>51</td>\n",
       "      <td>51</td>\n",
       "      <td>51</td>\n",
       "      <td>51</td>\n",
       "      <td>51</td>\n",
       "      <td>51</td>\n",
       "      <td>51</td>\n",
       "      <td>53</td>\n",
       "    </tr>\n",
       "    <tr>\n",
       "      <th>5</th>\n",
       "      <td>84001001</td>\n",
       "      <td>US</td>\n",
       "      <td>USA</td>\n",
       "      <td>840</td>\n",
       "      <td>1001.0</td>\n",
       "      <td>Autauga</td>\n",
       "      <td>Alabama</td>\n",
       "      <td>US</td>\n",
       "      <td>32.539527</td>\n",
       "      <td>-86.644082</td>\n",
       "      <td>...</td>\n",
       "      <td>15</td>\n",
       "      <td>17</td>\n",
       "      <td>19</td>\n",
       "      <td>19</td>\n",
       "      <td>19</td>\n",
       "      <td>23</td>\n",
       "      <td>24</td>\n",
       "      <td>26</td>\n",
       "      <td>26</td>\n",
       "      <td>25</td>\n",
       "    </tr>\n",
       "  </tbody>\n",
       "</table>\n",
       "<p>6 rows × 99 columns</p>\n",
       "</div>"
      ],
      "text/plain": [
       "        UID iso2 iso3  code3    FIPS   Admin2            Province_State  \\\n",
       "0        16   AS  ASM     16    60.0      NaN            American Samoa   \n",
       "1       316   GU  GUM    316    66.0      NaN                      Guam   \n",
       "2       580   MP  MNP    580    69.0      NaN  Northern Mariana Islands   \n",
       "3       630   PR  PRI    630    72.0      NaN               Puerto Rico   \n",
       "4       850   VI  VIR    850    78.0      NaN            Virgin Islands   \n",
       "5  84001001   US  USA    840  1001.0  Autauga                   Alabama   \n",
       "\n",
       "  Country_Region        Lat       Long_  ... 4/9/20  4/10/20  4/11/20  \\\n",
       "0             US -14.271000 -170.132000  ...      0        0        0   \n",
       "1             US  13.444300  144.793700  ...    128      130      133   \n",
       "2             US  15.097900  145.673900  ...     11       11       11   \n",
       "3             US  18.220800  -66.590100  ...    683      725      788   \n",
       "4             US  18.335800  -64.896300  ...     45       50       51   \n",
       "5             US  32.539527  -86.644082  ...     15       17       19   \n",
       "\n",
       "   4/12/20  4/13/20  4/14/20  4/15/20  4/16/20  4/17/20  4/18/20  \n",
       "0        0        0        0        0        0        0        0  \n",
       "1      133      133      133      135      135      136      136  \n",
       "2       11       11       11       13       13       13       14  \n",
       "3      897      903      923      974     1043     1068     1118  \n",
       "4       51       51       51       51       51       51       53  \n",
       "5       19       19       23       24       26       26       25  \n",
       "\n",
       "[6 rows x 99 columns]"
      ]
     },
     "execution_count": 221,
     "metadata": {},
     "output_type": "execute_result"
    }
   ],
   "source": [
    "data_time_conf.head(6)"
   ]
  },
  {
   "cell_type": "markdown",
   "metadata": {},
   "source": [
    "- We first filtered out the territories of the U.S. as we think it is not the best representation of the cases of all the other 50 major U.S. States"
   ]
  },
  {
   "cell_type": "code",
   "execution_count": 222,
   "metadata": {},
   "outputs": [],
   "source": [
    "data_time_conf = data_time_conf.iloc[5:, :]"
   ]
  },
  {
   "cell_type": "code",
   "execution_count": 223,
   "metadata": {},
   "outputs": [
    {
     "data": {
      "text/html": [
       "<div>\n",
       "<style scoped>\n",
       "    .dataframe tbody tr th:only-of-type {\n",
       "        vertical-align: middle;\n",
       "    }\n",
       "\n",
       "    .dataframe tbody tr th {\n",
       "        vertical-align: top;\n",
       "    }\n",
       "\n",
       "    .dataframe thead th {\n",
       "        text-align: right;\n",
       "    }\n",
       "</style>\n",
       "<table border=\"1\" class=\"dataframe\">\n",
       "  <thead>\n",
       "    <tr style=\"text-align: right;\">\n",
       "      <th></th>\n",
       "      <th>UID</th>\n",
       "      <th>iso2</th>\n",
       "      <th>iso3</th>\n",
       "      <th>code3</th>\n",
       "      <th>FIPS</th>\n",
       "      <th>Admin2</th>\n",
       "      <th>Province_State</th>\n",
       "      <th>Country_Region</th>\n",
       "      <th>Lat</th>\n",
       "      <th>Long_</th>\n",
       "      <th>...</th>\n",
       "      <th>4/9/20</th>\n",
       "      <th>4/10/20</th>\n",
       "      <th>4/11/20</th>\n",
       "      <th>4/12/20</th>\n",
       "      <th>4/13/20</th>\n",
       "      <th>4/14/20</th>\n",
       "      <th>4/15/20</th>\n",
       "      <th>4/16/20</th>\n",
       "      <th>4/17/20</th>\n",
       "      <th>4/18/20</th>\n",
       "    </tr>\n",
       "  </thead>\n",
       "  <tbody>\n",
       "    <tr>\n",
       "      <th>5</th>\n",
       "      <td>84001001</td>\n",
       "      <td>US</td>\n",
       "      <td>USA</td>\n",
       "      <td>840</td>\n",
       "      <td>1001.0</td>\n",
       "      <td>Autauga</td>\n",
       "      <td>Alabama</td>\n",
       "      <td>US</td>\n",
       "      <td>32.539527</td>\n",
       "      <td>-86.644082</td>\n",
       "      <td>...</td>\n",
       "      <td>15</td>\n",
       "      <td>17</td>\n",
       "      <td>19</td>\n",
       "      <td>19</td>\n",
       "      <td>19</td>\n",
       "      <td>23</td>\n",
       "      <td>24</td>\n",
       "      <td>26</td>\n",
       "      <td>26</td>\n",
       "      <td>25</td>\n",
       "    </tr>\n",
       "    <tr>\n",
       "      <th>6</th>\n",
       "      <td>84001003</td>\n",
       "      <td>US</td>\n",
       "      <td>USA</td>\n",
       "      <td>840</td>\n",
       "      <td>1003.0</td>\n",
       "      <td>Baldwin</td>\n",
       "      <td>Alabama</td>\n",
       "      <td>US</td>\n",
       "      <td>30.727750</td>\n",
       "      <td>-87.722071</td>\n",
       "      <td>...</td>\n",
       "      <td>56</td>\n",
       "      <td>59</td>\n",
       "      <td>66</td>\n",
       "      <td>71</td>\n",
       "      <td>72</td>\n",
       "      <td>87</td>\n",
       "      <td>91</td>\n",
       "      <td>101</td>\n",
       "      <td>103</td>\n",
       "      <td>109</td>\n",
       "    </tr>\n",
       "    <tr>\n",
       "      <th>7</th>\n",
       "      <td>84001005</td>\n",
       "      <td>US</td>\n",
       "      <td>USA</td>\n",
       "      <td>840</td>\n",
       "      <td>1005.0</td>\n",
       "      <td>Barbour</td>\n",
       "      <td>Alabama</td>\n",
       "      <td>US</td>\n",
       "      <td>31.868263</td>\n",
       "      <td>-85.387129</td>\n",
       "      <td>...</td>\n",
       "      <td>4</td>\n",
       "      <td>9</td>\n",
       "      <td>9</td>\n",
       "      <td>10</td>\n",
       "      <td>10</td>\n",
       "      <td>11</td>\n",
       "      <td>12</td>\n",
       "      <td>14</td>\n",
       "      <td>15</td>\n",
       "      <td>18</td>\n",
       "    </tr>\n",
       "    <tr>\n",
       "      <th>8</th>\n",
       "      <td>84001007</td>\n",
       "      <td>US</td>\n",
       "      <td>USA</td>\n",
       "      <td>840</td>\n",
       "      <td>1007.0</td>\n",
       "      <td>Bibb</td>\n",
       "      <td>Alabama</td>\n",
       "      <td>US</td>\n",
       "      <td>32.996421</td>\n",
       "      <td>-87.125115</td>\n",
       "      <td>...</td>\n",
       "      <td>9</td>\n",
       "      <td>11</td>\n",
       "      <td>13</td>\n",
       "      <td>16</td>\n",
       "      <td>17</td>\n",
       "      <td>17</td>\n",
       "      <td>18</td>\n",
       "      <td>22</td>\n",
       "      <td>24</td>\n",
       "      <td>26</td>\n",
       "    </tr>\n",
       "    <tr>\n",
       "      <th>9</th>\n",
       "      <td>84001009</td>\n",
       "      <td>US</td>\n",
       "      <td>USA</td>\n",
       "      <td>840</td>\n",
       "      <td>1009.0</td>\n",
       "      <td>Blount</td>\n",
       "      <td>Alabama</td>\n",
       "      <td>US</td>\n",
       "      <td>33.982109</td>\n",
       "      <td>-86.567906</td>\n",
       "      <td>...</td>\n",
       "      <td>11</td>\n",
       "      <td>12</td>\n",
       "      <td>12</td>\n",
       "      <td>13</td>\n",
       "      <td>14</td>\n",
       "      <td>16</td>\n",
       "      <td>17</td>\n",
       "      <td>18</td>\n",
       "      <td>20</td>\n",
       "      <td>20</td>\n",
       "    </tr>\n",
       "  </tbody>\n",
       "</table>\n",
       "<p>5 rows × 99 columns</p>\n",
       "</div>"
      ],
      "text/plain": [
       "        UID iso2 iso3  code3    FIPS   Admin2 Province_State Country_Region  \\\n",
       "5  84001001   US  USA    840  1001.0  Autauga        Alabama             US   \n",
       "6  84001003   US  USA    840  1003.0  Baldwin        Alabama             US   \n",
       "7  84001005   US  USA    840  1005.0  Barbour        Alabama             US   \n",
       "8  84001007   US  USA    840  1007.0     Bibb        Alabama             US   \n",
       "9  84001009   US  USA    840  1009.0   Blount        Alabama             US   \n",
       "\n",
       "         Lat      Long_  ... 4/9/20  4/10/20  4/11/20  4/12/20  4/13/20  \\\n",
       "5  32.539527 -86.644082  ...     15       17       19       19       19   \n",
       "6  30.727750 -87.722071  ...     56       59       66       71       72   \n",
       "7  31.868263 -85.387129  ...      4        9        9       10       10   \n",
       "8  32.996421 -87.125115  ...      9       11       13       16       17   \n",
       "9  33.982109 -86.567906  ...     11       12       12       13       14   \n",
       "\n",
       "   4/14/20  4/15/20  4/16/20  4/17/20  4/18/20  \n",
       "5       23       24       26       26       25  \n",
       "6       87       91      101      103      109  \n",
       "7       11       12       14       15       18  \n",
       "8       17       18       22       24       26  \n",
       "9       16       17       18       20       20  \n",
       "\n",
       "[5 rows x 99 columns]"
      ]
     },
     "execution_count": 223,
     "metadata": {},
     "output_type": "execute_result"
    }
   ],
   "source": [
    "data_time_conf.head(5)"
   ]
  },
  {
   "cell_type": "code",
   "execution_count": 224,
   "metadata": {},
   "outputs": [],
   "source": [
    "data_counties = data_counties.iloc[:-2, :]"
   ]
  },
  {
   "cell_type": "markdown",
   "metadata": {},
   "source": [
    "- There are two rows with all NaN's at the end, we the code above dropped them."
   ]
  },
  {
   "cell_type": "code",
   "execution_count": 225,
   "metadata": {},
   "outputs": [
    {
     "data": {
      "text/html": [
       "<div>\n",
       "<style scoped>\n",
       "    .dataframe tbody tr th:only-of-type {\n",
       "        vertical-align: middle;\n",
       "    }\n",
       "\n",
       "    .dataframe tbody tr th {\n",
       "        vertical-align: top;\n",
       "    }\n",
       "\n",
       "    .dataframe thead th {\n",
       "        text-align: right;\n",
       "    }\n",
       "</style>\n",
       "<table border=\"1\" class=\"dataframe\">\n",
       "  <thead>\n",
       "    <tr style=\"text-align: right;\">\n",
       "      <th></th>\n",
       "      <th>countyFIPS</th>\n",
       "      <th>STATEFP</th>\n",
       "      <th>COUNTYFP</th>\n",
       "      <th>CountyName</th>\n",
       "      <th>StateName</th>\n",
       "      <th>State</th>\n",
       "      <th>lat</th>\n",
       "      <th>lon</th>\n",
       "      <th>POP_LATITUDE</th>\n",
       "      <th>POP_LONGITUDE</th>\n",
       "      <th>...</th>\n",
       "      <th>&gt;500 gatherings</th>\n",
       "      <th>public schools</th>\n",
       "      <th>restaurant dine-in</th>\n",
       "      <th>entertainment/gym</th>\n",
       "      <th>federal guidelines</th>\n",
       "      <th>foreign travel ban</th>\n",
       "      <th>SVIPercentile</th>\n",
       "      <th>HPSAShortage</th>\n",
       "      <th>HPSAServedPop</th>\n",
       "      <th>HPSAUnderservedPop</th>\n",
       "    </tr>\n",
       "  </thead>\n",
       "  <tbody>\n",
       "    <tr>\n",
       "      <th>0</th>\n",
       "      <td>01001</td>\n",
       "      <td>1.0</td>\n",
       "      <td>1.0</td>\n",
       "      <td>Autauga</td>\n",
       "      <td>AL</td>\n",
       "      <td>Alabama</td>\n",
       "      <td>32.540091</td>\n",
       "      <td>-86.645649</td>\n",
       "      <td>32.500389</td>\n",
       "      <td>-86.494165</td>\n",
       "      <td>...</td>\n",
       "      <td>737497.0</td>\n",
       "      <td>737500.0</td>\n",
       "      <td>737503.0</td>\n",
       "      <td>737512.0</td>\n",
       "      <td>737500.0</td>\n",
       "      <td>737495.0</td>\n",
       "      <td>0.4354</td>\n",
       "      <td>NaN</td>\n",
       "      <td>NaN</td>\n",
       "      <td>NaN</td>\n",
       "    </tr>\n",
       "    <tr>\n",
       "      <th>1</th>\n",
       "      <td>01003</td>\n",
       "      <td>1.0</td>\n",
       "      <td>3.0</td>\n",
       "      <td>Baldwin</td>\n",
       "      <td>AL</td>\n",
       "      <td>Alabama</td>\n",
       "      <td>30.738314</td>\n",
       "      <td>-87.726272</td>\n",
       "      <td>30.548923</td>\n",
       "      <td>-87.762381</td>\n",
       "      <td>...</td>\n",
       "      <td>737497.0</td>\n",
       "      <td>737500.0</td>\n",
       "      <td>737503.0</td>\n",
       "      <td>737512.0</td>\n",
       "      <td>737500.0</td>\n",
       "      <td>737495.0</td>\n",
       "      <td>0.2162</td>\n",
       "      <td>NaN</td>\n",
       "      <td>NaN</td>\n",
       "      <td>NaN</td>\n",
       "    </tr>\n",
       "    <tr>\n",
       "      <th>2</th>\n",
       "      <td>01005</td>\n",
       "      <td>1.0</td>\n",
       "      <td>5.0</td>\n",
       "      <td>Barbour</td>\n",
       "      <td>AL</td>\n",
       "      <td>Alabama</td>\n",
       "      <td>31.874030</td>\n",
       "      <td>-85.397327</td>\n",
       "      <td>31.844036</td>\n",
       "      <td>-85.310038</td>\n",
       "      <td>...</td>\n",
       "      <td>737497.0</td>\n",
       "      <td>737500.0</td>\n",
       "      <td>737503.0</td>\n",
       "      <td>737512.0</td>\n",
       "      <td>737500.0</td>\n",
       "      <td>737495.0</td>\n",
       "      <td>0.9959</td>\n",
       "      <td>6.08</td>\n",
       "      <td>5400.0</td>\n",
       "      <td>18241.0</td>\n",
       "    </tr>\n",
       "    <tr>\n",
       "      <th>3</th>\n",
       "      <td>01007</td>\n",
       "      <td>1.0</td>\n",
       "      <td>7.0</td>\n",
       "      <td>Bibb</td>\n",
       "      <td>AL</td>\n",
       "      <td>Alabama</td>\n",
       "      <td>32.999024</td>\n",
       "      <td>-87.125260</td>\n",
       "      <td>33.030921</td>\n",
       "      <td>-87.127659</td>\n",
       "      <td>...</td>\n",
       "      <td>737497.0</td>\n",
       "      <td>737500.0</td>\n",
       "      <td>737503.0</td>\n",
       "      <td>737512.0</td>\n",
       "      <td>737500.0</td>\n",
       "      <td>737495.0</td>\n",
       "      <td>0.6003</td>\n",
       "      <td>2.75</td>\n",
       "      <td>14980.0</td>\n",
       "      <td>6120.0</td>\n",
       "    </tr>\n",
       "    <tr>\n",
       "      <th>4</th>\n",
       "      <td>01009</td>\n",
       "      <td>1.0</td>\n",
       "      <td>9.0</td>\n",
       "      <td>Blount</td>\n",
       "      <td>AL</td>\n",
       "      <td>Alabama</td>\n",
       "      <td>33.990440</td>\n",
       "      <td>-86.562711</td>\n",
       "      <td>33.955243</td>\n",
       "      <td>-86.591491</td>\n",
       "      <td>...</td>\n",
       "      <td>737497.0</td>\n",
       "      <td>737500.0</td>\n",
       "      <td>737503.0</td>\n",
       "      <td>737512.0</td>\n",
       "      <td>737500.0</td>\n",
       "      <td>737495.0</td>\n",
       "      <td>0.4242</td>\n",
       "      <td>7.21</td>\n",
       "      <td>31850.0</td>\n",
       "      <td>25233.0</td>\n",
       "    </tr>\n",
       "  </tbody>\n",
       "</table>\n",
       "<p>5 rows × 87 columns</p>\n",
       "</div>"
      ],
      "text/plain": [
       "  countyFIPS  STATEFP  COUNTYFP CountyName StateName    State        lat  \\\n",
       "0      01001      1.0       1.0    Autauga        AL  Alabama  32.540091   \n",
       "1      01003      1.0       3.0    Baldwin        AL  Alabama  30.738314   \n",
       "2      01005      1.0       5.0    Barbour        AL  Alabama  31.874030   \n",
       "3      01007      1.0       7.0       Bibb        AL  Alabama  32.999024   \n",
       "4      01009      1.0       9.0     Blount        AL  Alabama  33.990440   \n",
       "\n",
       "         lon  POP_LATITUDE  POP_LONGITUDE  ... >500 gatherings public schools  \\\n",
       "0 -86.645649     32.500389     -86.494165  ...        737497.0       737500.0   \n",
       "1 -87.726272     30.548923     -87.762381  ...        737497.0       737500.0   \n",
       "2 -85.397327     31.844036     -85.310038  ...        737497.0       737500.0   \n",
       "3 -87.125260     33.030921     -87.127659  ...        737497.0       737500.0   \n",
       "4 -86.562711     33.955243     -86.591491  ...        737497.0       737500.0   \n",
       "\n",
       "   restaurant dine-in  entertainment/gym  federal guidelines  \\\n",
       "0            737503.0           737512.0            737500.0   \n",
       "1            737503.0           737512.0            737500.0   \n",
       "2            737503.0           737512.0            737500.0   \n",
       "3            737503.0           737512.0            737500.0   \n",
       "4            737503.0           737512.0            737500.0   \n",
       "\n",
       "   foreign travel ban  SVIPercentile  HPSAShortage  HPSAServedPop  \\\n",
       "0            737495.0         0.4354           NaN            NaN   \n",
       "1            737495.0         0.2162           NaN            NaN   \n",
       "2            737495.0         0.9959          6.08         5400.0   \n",
       "3            737495.0         0.6003          2.75        14980.0   \n",
       "4            737495.0         0.4242          7.21        31850.0   \n",
       "\n",
       "   HPSAUnderservedPop  \n",
       "0                 NaN  \n",
       "1                 NaN  \n",
       "2             18241.0  \n",
       "3              6120.0  \n",
       "4             25233.0  \n",
       "\n",
       "[5 rows x 87 columns]"
      ]
     },
     "execution_count": 225,
     "metadata": {},
     "output_type": "execute_result"
    }
   ],
   "source": [
    "data_counties.head(5)"
   ]
  },
  {
   "cell_type": "markdown",
   "metadata": {},
   "source": [
    "- We decided to use \"UID\" of data_time_conf and \"countyFISP\" from data_counties as our foreign key, and notice that the \"countyFIPS\" of data_counties is just UID of data_time_conf add 84000000\n",
    "- So in the following codes, we adjust the keys such that they will match with each other"
   ]
  },
  {
   "cell_type": "code",
   "execution_count": 226,
   "metadata": {},
   "outputs": [],
   "source": [
    "data_time_conf['UID'] = data_time_conf['UID'].astype(int)"
   ]
  },
  {
   "cell_type": "code",
   "execution_count": 227,
   "metadata": {},
   "outputs": [],
   "source": [
    "data_counties[\"countyFIPS\"] = data_counties['countyFIPS'].astype(int)"
   ]
  },
  {
   "cell_type": "code",
   "execution_count": 228,
   "metadata": {},
   "outputs": [],
   "source": [
    "data_counties['countyFIPS'] = data_counties['countyFIPS'] + 84000000"
   ]
  },
  {
   "cell_type": "markdown",
   "metadata": {},
   "source": [
    "- Merge the two table"
   ]
  },
  {
   "cell_type": "code",
   "execution_count": 229,
   "metadata": {},
   "outputs": [],
   "source": [
    "combined_conf = data_time_conf.merge(data_counties, left_on= 'UID', right_on = 'countyFIPS')"
   ]
  },
  {
   "cell_type": "code",
   "execution_count": 230,
   "metadata": {
    "scrolled": true
   },
   "outputs": [
    {
     "data": {
      "text/html": [
       "<div>\n",
       "<style scoped>\n",
       "    .dataframe tbody tr th:only-of-type {\n",
       "        vertical-align: middle;\n",
       "    }\n",
       "\n",
       "    .dataframe tbody tr th {\n",
       "        vertical-align: top;\n",
       "    }\n",
       "\n",
       "    .dataframe thead th {\n",
       "        text-align: right;\n",
       "    }\n",
       "</style>\n",
       "<table border=\"1\" class=\"dataframe\">\n",
       "  <thead>\n",
       "    <tr style=\"text-align: right;\">\n",
       "      <th></th>\n",
       "      <th>UID</th>\n",
       "      <th>iso2</th>\n",
       "      <th>iso3</th>\n",
       "      <th>code3</th>\n",
       "      <th>FIPS</th>\n",
       "      <th>Admin2</th>\n",
       "      <th>Province_State</th>\n",
       "      <th>Country_Region</th>\n",
       "      <th>Lat</th>\n",
       "      <th>Long_</th>\n",
       "      <th>...</th>\n",
       "      <th>&gt;500 gatherings</th>\n",
       "      <th>public schools</th>\n",
       "      <th>restaurant dine-in</th>\n",
       "      <th>entertainment/gym</th>\n",
       "      <th>federal guidelines</th>\n",
       "      <th>foreign travel ban</th>\n",
       "      <th>SVIPercentile</th>\n",
       "      <th>HPSAShortage</th>\n",
       "      <th>HPSAServedPop</th>\n",
       "      <th>HPSAUnderservedPop</th>\n",
       "    </tr>\n",
       "  </thead>\n",
       "  <tbody>\n",
       "    <tr>\n",
       "      <th>0</th>\n",
       "      <td>84001001</td>\n",
       "      <td>US</td>\n",
       "      <td>USA</td>\n",
       "      <td>840</td>\n",
       "      <td>1001.0</td>\n",
       "      <td>Autauga</td>\n",
       "      <td>Alabama</td>\n",
       "      <td>US</td>\n",
       "      <td>32.539527</td>\n",
       "      <td>-86.644082</td>\n",
       "      <td>...</td>\n",
       "      <td>737497.0</td>\n",
       "      <td>737500.0</td>\n",
       "      <td>737503.0</td>\n",
       "      <td>737512.0</td>\n",
       "      <td>737500.0</td>\n",
       "      <td>737495.0</td>\n",
       "      <td>0.4354</td>\n",
       "      <td>NaN</td>\n",
       "      <td>NaN</td>\n",
       "      <td>NaN</td>\n",
       "    </tr>\n",
       "    <tr>\n",
       "      <th>1</th>\n",
       "      <td>84001003</td>\n",
       "      <td>US</td>\n",
       "      <td>USA</td>\n",
       "      <td>840</td>\n",
       "      <td>1003.0</td>\n",
       "      <td>Baldwin</td>\n",
       "      <td>Alabama</td>\n",
       "      <td>US</td>\n",
       "      <td>30.727750</td>\n",
       "      <td>-87.722071</td>\n",
       "      <td>...</td>\n",
       "      <td>737497.0</td>\n",
       "      <td>737500.0</td>\n",
       "      <td>737503.0</td>\n",
       "      <td>737512.0</td>\n",
       "      <td>737500.0</td>\n",
       "      <td>737495.0</td>\n",
       "      <td>0.2162</td>\n",
       "      <td>NaN</td>\n",
       "      <td>NaN</td>\n",
       "      <td>NaN</td>\n",
       "    </tr>\n",
       "    <tr>\n",
       "      <th>2</th>\n",
       "      <td>84001005</td>\n",
       "      <td>US</td>\n",
       "      <td>USA</td>\n",
       "      <td>840</td>\n",
       "      <td>1005.0</td>\n",
       "      <td>Barbour</td>\n",
       "      <td>Alabama</td>\n",
       "      <td>US</td>\n",
       "      <td>31.868263</td>\n",
       "      <td>-85.387129</td>\n",
       "      <td>...</td>\n",
       "      <td>737497.0</td>\n",
       "      <td>737500.0</td>\n",
       "      <td>737503.0</td>\n",
       "      <td>737512.0</td>\n",
       "      <td>737500.0</td>\n",
       "      <td>737495.0</td>\n",
       "      <td>0.9959</td>\n",
       "      <td>6.08</td>\n",
       "      <td>5400.0</td>\n",
       "      <td>18241.0</td>\n",
       "    </tr>\n",
       "    <tr>\n",
       "      <th>3</th>\n",
       "      <td>84001007</td>\n",
       "      <td>US</td>\n",
       "      <td>USA</td>\n",
       "      <td>840</td>\n",
       "      <td>1007.0</td>\n",
       "      <td>Bibb</td>\n",
       "      <td>Alabama</td>\n",
       "      <td>US</td>\n",
       "      <td>32.996421</td>\n",
       "      <td>-87.125115</td>\n",
       "      <td>...</td>\n",
       "      <td>737497.0</td>\n",
       "      <td>737500.0</td>\n",
       "      <td>737503.0</td>\n",
       "      <td>737512.0</td>\n",
       "      <td>737500.0</td>\n",
       "      <td>737495.0</td>\n",
       "      <td>0.6003</td>\n",
       "      <td>2.75</td>\n",
       "      <td>14980.0</td>\n",
       "      <td>6120.0</td>\n",
       "    </tr>\n",
       "    <tr>\n",
       "      <th>4</th>\n",
       "      <td>84001009</td>\n",
       "      <td>US</td>\n",
       "      <td>USA</td>\n",
       "      <td>840</td>\n",
       "      <td>1009.0</td>\n",
       "      <td>Blount</td>\n",
       "      <td>Alabama</td>\n",
       "      <td>US</td>\n",
       "      <td>33.982109</td>\n",
       "      <td>-86.567906</td>\n",
       "      <td>...</td>\n",
       "      <td>737497.0</td>\n",
       "      <td>737500.0</td>\n",
       "      <td>737503.0</td>\n",
       "      <td>737512.0</td>\n",
       "      <td>737500.0</td>\n",
       "      <td>737495.0</td>\n",
       "      <td>0.4242</td>\n",
       "      <td>7.21</td>\n",
       "      <td>31850.0</td>\n",
       "      <td>25233.0</td>\n",
       "    </tr>\n",
       "  </tbody>\n",
       "</table>\n",
       "<p>5 rows × 186 columns</p>\n",
       "</div>"
      ],
      "text/plain": [
       "        UID iso2 iso3  code3    FIPS   Admin2 Province_State Country_Region  \\\n",
       "0  84001001   US  USA    840  1001.0  Autauga        Alabama             US   \n",
       "1  84001003   US  USA    840  1003.0  Baldwin        Alabama             US   \n",
       "2  84001005   US  USA    840  1005.0  Barbour        Alabama             US   \n",
       "3  84001007   US  USA    840  1007.0     Bibb        Alabama             US   \n",
       "4  84001009   US  USA    840  1009.0   Blount        Alabama             US   \n",
       "\n",
       "         Lat      Long_  ... >500 gatherings  public schools  \\\n",
       "0  32.539527 -86.644082  ...        737497.0        737500.0   \n",
       "1  30.727750 -87.722071  ...        737497.0        737500.0   \n",
       "2  31.868263 -85.387129  ...        737497.0        737500.0   \n",
       "3  32.996421 -87.125115  ...        737497.0        737500.0   \n",
       "4  33.982109 -86.567906  ...        737497.0        737500.0   \n",
       "\n",
       "   restaurant dine-in  entertainment/gym  federal guidelines  \\\n",
       "0            737503.0           737512.0            737500.0   \n",
       "1            737503.0           737512.0            737500.0   \n",
       "2            737503.0           737512.0            737500.0   \n",
       "3            737503.0           737512.0            737500.0   \n",
       "4            737503.0           737512.0            737500.0   \n",
       "\n",
       "   foreign travel ban  SVIPercentile  HPSAShortage  HPSAServedPop  \\\n",
       "0            737495.0         0.4354           NaN            NaN   \n",
       "1            737495.0         0.2162           NaN            NaN   \n",
       "2            737495.0         0.9959          6.08         5400.0   \n",
       "3            737495.0         0.6003          2.75        14980.0   \n",
       "4            737495.0         0.4242          7.21        31850.0   \n",
       "\n",
       "   HPSAUnderservedPop  \n",
       "0                 NaN  \n",
       "1                 NaN  \n",
       "2             18241.0  \n",
       "3              6120.0  \n",
       "4             25233.0  \n",
       "\n",
       "[5 rows x 186 columns]"
      ]
     },
     "execution_count": 230,
     "metadata": {},
     "output_type": "execute_result"
    }
   ],
   "source": [
    "combined_conf.head(5)"
   ]
  },
  {
   "cell_type": "markdown",
   "metadata": {},
   "source": [
    "#### Cleaning up NaN values"
   ]
  },
  {
   "cell_type": "code",
   "execution_count": 231,
   "metadata": {
    "scrolled": true
   },
   "outputs": [
    {
     "data": {
      "text/plain": [
       "UID                      0\n",
       "iso2                     0\n",
       "iso3                     0\n",
       "code3                    0\n",
       "FIPS                     0\n",
       "                      ... \n",
       "foreign travel ban       0\n",
       "SVIPercentile            1\n",
       "HPSAShortage          1101\n",
       "HPSAServedPop         1101\n",
       "HPSAUnderservedPop    1101\n",
       "Length: 186, dtype: int64"
      ]
     },
     "execution_count": 231,
     "metadata": {},
     "output_type": "execute_result"
    }
   ],
   "source": [
    "combined_conf.isna().sum()"
   ]
  },
  {
   "cell_type": "markdown",
   "metadata": {},
   "source": [
    "- Notice that there are lots of NaN values in some of the columns. \n",
    "- Here, in order to give a consistant and relatively accurate X matrix for fitting our models, we decided to drop out the columns with too many NaNs, since if there are too many NaNs in a category, it would be really hard to choose alternative for them since demographic information are very unique to each state, and filling up all the NaN data with \"mean\" \"median\" or \"most frequent\" will potentially bring misleading information to our models.\n",
    "- To define \"too many\", we decided that if more than 20% of the data are NaN, we will drop it."
   ]
  },
  {
   "cell_type": "code",
   "execution_count": 232,
   "metadata": {},
   "outputs": [
    {
     "data": {
      "text/plain": [
       "3-YrDiabetes2015-17                  0.547452\n",
       "3-YrMortalityAge<1Year2015-17        0.850955\n",
       "3-YrMortalityAge1-4Years2015-17      0.979299\n",
       "3-YrMortalityAge5-14Years2015-17     0.969745\n",
       "3-YrMortalityAge15-24Years2015-17    0.800637\n",
       "3-YrMortalityAge25-34Years2015-17    0.695223\n",
       "3-YrMortalityAge35-44Years2015-17    0.586624\n",
       "3-YrMortalityAge45-54Years2015-17    0.328981\n",
       "mortality2015-17Estimated            0.969745\n",
       "HPSAShortage                         0.350637\n",
       "HPSAServedPop                        0.350637\n",
       "HPSAUnderservedPop                   0.350637\n",
       "dtype: float64"
      ]
     },
     "execution_count": 232,
     "metadata": {},
     "output_type": "execute_result"
    }
   ],
   "source": [
    "combined_conf.loc[:, combined_conf.isnull().mean() > .2].isnull().mean()"
   ]
  },
  {
   "cell_type": "markdown",
   "metadata": {},
   "source": [
    "- The columns above are the ones we drop from the dataframe, as they have very high porportion of NaN's.\n",
    "- Thus, the code below drop all the columns above"
   ]
  },
  {
   "cell_type": "code",
   "execution_count": 233,
   "metadata": {},
   "outputs": [],
   "source": [
    "combined_conf = combined_conf.loc[:, combined_conf.isnull().mean() <= .2]"
   ]
  },
  {
   "cell_type": "code",
   "execution_count": 234,
   "metadata": {},
   "outputs": [
    {
     "data": {
      "text/plain": [
       "State                                0.021019\n",
       "lat                                  0.021019\n",
       "lon                                  0.021019\n",
       "#EligibleforMedicare2018             0.001911\n",
       "MedicareEnrollment,AgedTot2017       0.006688\n",
       "HeartDiseaseMortality                0.002229\n",
       "StrokeMortality                      0.002548\n",
       "dem_to_rep_ratio                     0.008280\n",
       "3-YrMortalityAge55-64Years2015-17    0.148089\n",
       "3-YrMortalityAge65-74Years2015-17    0.097452\n",
       "3-YrMortalityAge75-84Years2015-17    0.068153\n",
       "3-YrMortalityAge85+Years2015-17      0.050000\n",
       "stay at home                         0.155732\n",
       ">50 gatherings                       0.037580\n",
       ">500 gatherings                      0.037580\n",
       "entertainment/gym                    0.020701\n",
       "SVIPercentile                        0.000318\n",
       "dtype: float64"
      ]
     },
     "execution_count": 234,
     "metadata": {},
     "output_type": "execute_result"
    }
   ],
   "source": [
    "combined_conf.loc[:, combined_conf.isnull().mean() > 0].isnull().mean()"
   ]
  },
  {
   "cell_type": "markdown",
   "metadata": {},
   "source": [
    "Columns to Drop Direactly:\n",
    "1. `State`: The Province_State from the time serise table has no NaN values, so Provinc_State can already represent the names of all the State.\n",
    "2. `lat`: The Lat from the time serise table has no NaN values, so it can present all the locations\n",
    "3. `lon`: The Lon from the time serise table has no NaN values, so it can present all the locations\n",
    "4. `entertainment/gym`: We think gym and entertainment might have long-term effect for human body, but it is not very related to the virus that is happend right now.\n",
    "\n",
    "Columns to take the \"Mean\" value to fill NaNs:\n",
    "1. `#EligibleforMedicare2018`: Since it has such a small NaN percentage and Medicare system is relatively well-developed in the U.S., we decided to fill the mean for the NaN of this column\n",
    "2. `All the rate, ratio, and percentile`: Since rate and ratio has already scaled, we can safely apply rate and ratio to states and counties with different populations.\n",
    "3. `All the MortalityAge`: Since all of them have such low NaN precentage, we decided to fill in Mean for them, as Mean will average out the effect of states with large population and small population. \n",
    "\n",
    "Columns to take the \"0\" value to fill NaNs:\n",
    "1. `>50 gatherings`: since gatherings might have a huge impact on confirmed cases, we rather to do it more safely by filling in 0s for these features with NaNs.\n",
    "2. `>500 gatherings`: since gatherings might have a huge impact on confirmed cases, we rather to do it more safely by filling in 0s for these features with NaNs."
   ]
  },
  {
   "cell_type": "code",
   "execution_count": 235,
   "metadata": {},
   "outputs": [],
   "source": [
    "combined_conf = combined_conf.drop(columns = ['State', 'lat', 'lon', 'entertainment/gym'])"
   ]
  },
  {
   "cell_type": "code",
   "execution_count": 236,
   "metadata": {},
   "outputs": [],
   "source": [
    "combined_conf['>50 gatherings'] = combined_conf['>50 gatherings'].fillna(0)"
   ]
  },
  {
   "cell_type": "code",
   "execution_count": 237,
   "metadata": {},
   "outputs": [],
   "source": [
    "combined_conf['>500 gatherings'] = combined_conf['>500 gatherings'].fillna(0)"
   ]
  },
  {
   "cell_type": "code",
   "execution_count": 238,
   "metadata": {},
   "outputs": [],
   "source": [
    "combined_conf = combined_conf.fillna(combined_conf.mean())"
   ]
  },
  {
   "cell_type": "code",
   "execution_count": 239,
   "metadata": {},
   "outputs": [
    {
     "data": {
      "text/plain": [
       "0.0"
      ]
     },
     "execution_count": 239,
     "metadata": {},
     "output_type": "execute_result"
    }
   ],
   "source": [
    "combined_conf.loc[:, combined_conf.isnull().mean() > 0].isnull().mean().sum()"
   ]
  },
  {
   "cell_type": "markdown",
   "metadata": {},
   "source": [
    "- There are no more NaN left in our dataframe!"
   ]
  },
  {
   "cell_type": "markdown",
   "metadata": {},
   "source": [
    "#### End of Join \"abridged_couties\" with \"time_series_covid19_confirmed_US\""
   ]
  },
  {
   "cell_type": "markdown",
   "metadata": {},
   "source": [
    "### 3. Combine the above two df together to create a raw feature dataframe"
   ]
  },
  {
   "cell_type": "code",
   "execution_count": 240,
   "metadata": {},
   "outputs": [],
   "source": [
    "all_in_1 = combined_conf.merge(general_state, left_on = 'Province_State', right_on='Province_State')"
   ]
  },
  {
   "cell_type": "code",
   "execution_count": 241,
   "metadata": {},
   "outputs": [
    {
     "data": {
      "text/html": [
       "<div>\n",
       "<style scoped>\n",
       "    .dataframe tbody tr th:only-of-type {\n",
       "        vertical-align: middle;\n",
       "    }\n",
       "\n",
       "    .dataframe tbody tr th {\n",
       "        vertical-align: top;\n",
       "    }\n",
       "\n",
       "    .dataframe thead th {\n",
       "        text-align: right;\n",
       "    }\n",
       "</style>\n",
       "<table border=\"1\" class=\"dataframe\">\n",
       "  <thead>\n",
       "    <tr style=\"text-align: right;\">\n",
       "      <th></th>\n",
       "      <th>UID_x</th>\n",
       "      <th>iso2</th>\n",
       "      <th>iso3</th>\n",
       "      <th>code3</th>\n",
       "      <th>FIPS_x</th>\n",
       "      <th>Admin2</th>\n",
       "      <th>Province_State</th>\n",
       "      <th>Country_Region_x</th>\n",
       "      <th>Lat_x</th>\n",
       "      <th>Long_</th>\n",
       "      <th>...</th>\n",
       "      <th>Active</th>\n",
       "      <th>FIPS_y</th>\n",
       "      <th>Incident_Rate</th>\n",
       "      <th>People_Tested</th>\n",
       "      <th>People_Hospitalized</th>\n",
       "      <th>Mortality_Rate</th>\n",
       "      <th>UID_y</th>\n",
       "      <th>ISO3</th>\n",
       "      <th>Testing_Rate</th>\n",
       "      <th>Hospitalization_Rate</th>\n",
       "    </tr>\n",
       "  </thead>\n",
       "  <tbody>\n",
       "    <tr>\n",
       "      <th>0</th>\n",
       "      <td>84001001</td>\n",
       "      <td>US</td>\n",
       "      <td>USA</td>\n",
       "      <td>840</td>\n",
       "      <td>1001.0</td>\n",
       "      <td>Autauga</td>\n",
       "      <td>Alabama</td>\n",
       "      <td>US</td>\n",
       "      <td>32.539527</td>\n",
       "      <td>-86.644082</td>\n",
       "      <td>...</td>\n",
       "      <td>4559.0</td>\n",
       "      <td>1.0</td>\n",
       "      <td>100.492717</td>\n",
       "      <td>42538.0</td>\n",
       "      <td>620.0</td>\n",
       "      <td>3.247029</td>\n",
       "      <td>84000001</td>\n",
       "      <td>USA</td>\n",
       "      <td>907.206961</td>\n",
       "      <td>13.157895</td>\n",
       "    </tr>\n",
       "    <tr>\n",
       "      <th>1</th>\n",
       "      <td>84001003</td>\n",
       "      <td>US</td>\n",
       "      <td>USA</td>\n",
       "      <td>840</td>\n",
       "      <td>1003.0</td>\n",
       "      <td>Baldwin</td>\n",
       "      <td>Alabama</td>\n",
       "      <td>US</td>\n",
       "      <td>30.727750</td>\n",
       "      <td>-87.722071</td>\n",
       "      <td>...</td>\n",
       "      <td>4559.0</td>\n",
       "      <td>1.0</td>\n",
       "      <td>100.492717</td>\n",
       "      <td>42538.0</td>\n",
       "      <td>620.0</td>\n",
       "      <td>3.247029</td>\n",
       "      <td>84000001</td>\n",
       "      <td>USA</td>\n",
       "      <td>907.206961</td>\n",
       "      <td>13.157895</td>\n",
       "    </tr>\n",
       "    <tr>\n",
       "      <th>2</th>\n",
       "      <td>84001005</td>\n",
       "      <td>US</td>\n",
       "      <td>USA</td>\n",
       "      <td>840</td>\n",
       "      <td>1005.0</td>\n",
       "      <td>Barbour</td>\n",
       "      <td>Alabama</td>\n",
       "      <td>US</td>\n",
       "      <td>31.868263</td>\n",
       "      <td>-85.387129</td>\n",
       "      <td>...</td>\n",
       "      <td>4559.0</td>\n",
       "      <td>1.0</td>\n",
       "      <td>100.492717</td>\n",
       "      <td>42538.0</td>\n",
       "      <td>620.0</td>\n",
       "      <td>3.247029</td>\n",
       "      <td>84000001</td>\n",
       "      <td>USA</td>\n",
       "      <td>907.206961</td>\n",
       "      <td>13.157895</td>\n",
       "    </tr>\n",
       "    <tr>\n",
       "      <th>3</th>\n",
       "      <td>84001007</td>\n",
       "      <td>US</td>\n",
       "      <td>USA</td>\n",
       "      <td>840</td>\n",
       "      <td>1007.0</td>\n",
       "      <td>Bibb</td>\n",
       "      <td>Alabama</td>\n",
       "      <td>US</td>\n",
       "      <td>32.996421</td>\n",
       "      <td>-87.125115</td>\n",
       "      <td>...</td>\n",
       "      <td>4559.0</td>\n",
       "      <td>1.0</td>\n",
       "      <td>100.492717</td>\n",
       "      <td>42538.0</td>\n",
       "      <td>620.0</td>\n",
       "      <td>3.247029</td>\n",
       "      <td>84000001</td>\n",
       "      <td>USA</td>\n",
       "      <td>907.206961</td>\n",
       "      <td>13.157895</td>\n",
       "    </tr>\n",
       "    <tr>\n",
       "      <th>4</th>\n",
       "      <td>84001009</td>\n",
       "      <td>US</td>\n",
       "      <td>USA</td>\n",
       "      <td>840</td>\n",
       "      <td>1009.0</td>\n",
       "      <td>Blount</td>\n",
       "      <td>Alabama</td>\n",
       "      <td>US</td>\n",
       "      <td>33.982109</td>\n",
       "      <td>-86.567906</td>\n",
       "      <td>...</td>\n",
       "      <td>4559.0</td>\n",
       "      <td>1.0</td>\n",
       "      <td>100.492717</td>\n",
       "      <td>42538.0</td>\n",
       "      <td>620.0</td>\n",
       "      <td>3.247029</td>\n",
       "      <td>84000001</td>\n",
       "      <td>USA</td>\n",
       "      <td>907.206961</td>\n",
       "      <td>13.157895</td>\n",
       "    </tr>\n",
       "  </tbody>\n",
       "</table>\n",
       "<p>5 rows × 187 columns</p>\n",
       "</div>"
      ],
      "text/plain": [
       "      UID_x iso2 iso3  code3  FIPS_x   Admin2 Province_State Country_Region_x  \\\n",
       "0  84001001   US  USA    840  1001.0  Autauga        Alabama               US   \n",
       "1  84001003   US  USA    840  1003.0  Baldwin        Alabama               US   \n",
       "2  84001005   US  USA    840  1005.0  Barbour        Alabama               US   \n",
       "3  84001007   US  USA    840  1007.0     Bibb        Alabama               US   \n",
       "4  84001009   US  USA    840  1009.0   Blount        Alabama               US   \n",
       "\n",
       "       Lat_x      Long_  ...  Active  FIPS_y  Incident_Rate  People_Tested  \\\n",
       "0  32.539527 -86.644082  ...  4559.0     1.0     100.492717        42538.0   \n",
       "1  30.727750 -87.722071  ...  4559.0     1.0     100.492717        42538.0   \n",
       "2  31.868263 -85.387129  ...  4559.0     1.0     100.492717        42538.0   \n",
       "3  32.996421 -87.125115  ...  4559.0     1.0     100.492717        42538.0   \n",
       "4  33.982109 -86.567906  ...  4559.0     1.0     100.492717        42538.0   \n",
       "\n",
       "   People_Hospitalized  Mortality_Rate     UID_y  ISO3  Testing_Rate  \\\n",
       "0                620.0        3.247029  84000001   USA    907.206961   \n",
       "1                620.0        3.247029  84000001   USA    907.206961   \n",
       "2                620.0        3.247029  84000001   USA    907.206961   \n",
       "3                620.0        3.247029  84000001   USA    907.206961   \n",
       "4                620.0        3.247029  84000001   USA    907.206961   \n",
       "\n",
       "   Hospitalization_Rate  \n",
       "0             13.157895  \n",
       "1             13.157895  \n",
       "2             13.157895  \n",
       "3             13.157895  \n",
       "4             13.157895  \n",
       "\n",
       "[5 rows x 187 columns]"
      ]
     },
     "execution_count": 241,
     "metadata": {},
     "output_type": "execute_result"
    }
   ],
   "source": [
    "all_in_1.head(5)"
   ]
  },
  {
   "cell_type": "markdown",
   "metadata": {},
   "source": [
    "- Notice there are many columns within these two dataframe with repeated names, which Pandas matigate through it with adding \"_x\" \"_y\" at the end of the column names\n",
    "- So, I clean out the data further by dropping the columns with overlapping names"
   ]
  },
  {
   "cell_type": "code",
   "execution_count": 242,
   "metadata": {},
   "outputs": [],
   "source": [
    "drop_list = ['UID_x', 'iso2', 'iso3', \"code3\", \"FIPS_x\", 'Admin2', \n",
    "                'Province_State', \"Country_Region_x\", \"Combined_Key\",\n",
    "               \"StateName\", 'countyFIPS', 'STATEFP', 'COUNTYFP', 'CountyName', \n",
    "                'POP_LATITUDE', 'POP_LONGITUDE', 'FIPS_y', \"UID_y\", \n",
    "                \"ISO3\", 'CensusRegionName', 'Country_Region_y', 'Last_Update', 'CensusDivisionName']"
   ]
  },
  {
   "cell_type": "code",
   "execution_count": 243,
   "metadata": {},
   "outputs": [],
   "source": [
    "all_in_1 = all_in_1.drop(columns = drop_list)"
   ]
  },
  {
   "cell_type": "code",
   "execution_count": null,
   "metadata": {},
   "outputs": [],
   "source": []
  },
  {
   "cell_type": "code",
   "execution_count": null,
   "metadata": {},
   "outputs": [],
   "source": []
  },
  {
   "cell_type": "code",
   "execution_count": null,
   "metadata": {},
   "outputs": [],
   "source": []
  },
  {
   "cell_type": "code",
   "execution_count": null,
   "metadata": {},
   "outputs": [],
   "source": []
  },
  {
   "cell_type": "code",
   "execution_count": null,
   "metadata": {},
   "outputs": [],
   "source": []
  },
  {
   "cell_type": "code",
   "execution_count": null,
   "metadata": {},
   "outputs": [],
   "source": []
  },
  {
   "cell_type": "code",
   "execution_count": null,
   "metadata": {},
   "outputs": [],
   "source": []
  },
  {
   "cell_type": "code",
   "execution_count": null,
   "metadata": {},
   "outputs": [],
   "source": []
  },
  {
   "cell_type": "markdown",
   "metadata": {},
   "source": [
    "# ignore the following part"
   ]
  },
  {
   "cell_type": "markdown",
   "metadata": {},
   "source": [
    "### 4. Train test split"
   ]
  },
  {
   "cell_type": "code",
   "execution_count": 190,
   "metadata": {},
   "outputs": [],
   "source": [
    "y = all_in_1['4/18/20']"
   ]
  },
  {
   "cell_type": "code",
   "execution_count": 191,
   "metadata": {},
   "outputs": [],
   "source": [
    "X = all_in_1.drop(columns = ['4/18/20'])"
   ]
  },
  {
   "cell_type": "code",
   "execution_count": 192,
   "metadata": {},
   "outputs": [],
   "source": [
    "from sklearn.model_selection import train_test_split\n",
    "X_train, X_test, y_train, y_test = train_test_split(X, y, test_size=0.1, random_state=42)"
   ]
  },
  {
   "cell_type": "markdown",
   "metadata": {},
   "source": [
    "### 5. Use SKlearn Feature Selection package to create a df filter"
   ]
  },
  {
   "cell_type": "code",
   "execution_count": 193,
   "metadata": {},
   "outputs": [],
   "source": [
    "from sklearn.impute import SimpleImputer\n",
    "imp = SimpleImputer(strategy=\"most_frequent\")\n",
    "X_train = imp.fit_transform(X_train)"
   ]
  },
  {
   "cell_type": "code",
   "execution_count": 194,
   "metadata": {},
   "outputs": [],
   "source": [
    "filled_df = pd.DataFrame(X_train,\n",
    "                   columns=all_in_1.drop(columns = ['4/18/20']).columns)"
   ]
  },
  {
   "cell_type": "code",
   "execution_count": 195,
   "metadata": {},
   "outputs": [],
   "source": [
    "from sklearn.ensemble import ExtraTreesClassifier\n",
    "from sklearn.feature_selection import SelectFromModel\n",
    "\n",
    "clf = ExtraTreesClassifier(n_estimators=50)\n",
    "clf = clf.fit(filled_df, y_train)\n",
    "feature_filter = SelectFromModel(clf, prefit=True)\n",
    "X_train = feature_filter.transform(X_train)"
   ]
  },
  {
   "cell_type": "markdown",
   "metadata": {},
   "source": [
    "### 6. Decision Tree Regression Model fitting"
   ]
  },
  {
   "cell_type": "code",
   "execution_count": 198,
   "metadata": {},
   "outputs": [],
   "source": [
    "from sklearn.tree import DecisionTreeRegressor\n",
    "from sklearn.ensemble import AdaBoostRegressor\n",
    "# Fit regression model\n",
    "regr_1 = DecisionTreeRegressor(max_depth=20)\n",
    "regr_1.fit(X_train, y_train);"
   ]
  },
  {
   "cell_type": "code",
   "execution_count": 199,
   "metadata": {},
   "outputs": [
    {
     "name": "stdout",
     "output_type": "stream",
     "text": [
      "Training Accuracy:  0.9999999994985884\n"
     ]
    }
   ],
   "source": [
    "training_accuracy = regr_1.score(X_train, y_train)\n",
    "print(\"Training Accuracy: \", training_accuracy)"
   ]
  },
  {
   "cell_type": "code",
   "execution_count": null,
   "metadata": {
    "scrolled": true
   },
   "outputs": [],
   "source": [
    "y_train"
   ]
  },
  {
   "cell_type": "code",
   "execution_count": null,
   "metadata": {
    "scrolled": true
   },
   "outputs": [],
   "source": [
    "regr_1.predict(X_train)"
   ]
  },
  {
   "cell_type": "code",
   "execution_count": null,
   "metadata": {},
   "outputs": [],
   "source": [
    "def mse(y_train, y_true):\n",
    "    return np.mean((y_train - y_true) ** 2)"
   ]
  },
  {
   "cell_type": "code",
   "execution_count": null,
   "metadata": {},
   "outputs": [],
   "source": [
    "mse(y_train, regr_1.predict(X_train))"
   ]
  },
  {
   "cell_type": "code",
   "execution_count": null,
   "metadata": {},
   "outputs": [],
   "source": []
  },
  {
   "cell_type": "code",
   "execution_count": null,
   "metadata": {},
   "outputs": [],
   "source": []
  },
  {
   "cell_type": "code",
   "execution_count": null,
   "metadata": {},
   "outputs": [],
   "source": []
  },
  {
   "cell_type": "code",
   "execution_count": null,
   "metadata": {},
   "outputs": [],
   "source": []
  },
  {
   "cell_type": "markdown",
   "metadata": {},
   "source": [
    "### 7. Test Accuracy"
   ]
  },
  {
   "cell_type": "code",
   "execution_count": null,
   "metadata": {},
   "outputs": [],
   "source": [
    "X_test = imp.fit_transform(X_test)"
   ]
  },
  {
   "cell_type": "code",
   "execution_count": null,
   "metadata": {},
   "outputs": [],
   "source": [
    "X_test = feature_filter.transform(X_test)"
   ]
  },
  {
   "cell_type": "code",
   "execution_count": null,
   "metadata": {},
   "outputs": [],
   "source": [
    "training_accuracy = regr_1.score(X_test, y_test)\n",
    "print(\"Test Accuracy: \", training_accuracy)"
   ]
  },
  {
   "cell_type": "markdown",
   "metadata": {},
   "source": [
    "### 7. The selected features by SKLearn"
   ]
  },
  {
   "cell_type": "code",
   "execution_count": null,
   "metadata": {},
   "outputs": [],
   "source": [
    "filled_df"
   ]
  },
  {
   "cell_type": "code",
   "execution_count": null,
   "metadata": {},
   "outputs": [],
   "source": [
    "subset = feature_filter.get_support()"
   ]
  },
  {
   "cell_type": "code",
   "execution_count": null,
   "metadata": {},
   "outputs": [],
   "source": [
    "filled_df = filled_df.loc[:, subset]"
   ]
  },
  {
   "cell_type": "code",
   "execution_count": null,
   "metadata": {},
   "outputs": [],
   "source": [
    "filled_df.columns"
   ]
  },
  {
   "cell_type": "code",
   "execution_count": null,
   "metadata": {},
   "outputs": [],
   "source": []
  }
 ],
 "metadata": {
  "kernelspec": {
   "display_name": "Python 3",
   "language": "python",
   "name": "python3"
  },
  "language_info": {
   "codemirror_mode": {
    "name": "ipython",
    "version": 3
   },
   "file_extension": ".py",
   "mimetype": "text/x-python",
   "name": "python",
   "nbconvert_exporter": "python",
   "pygments_lexer": "ipython3",
   "version": "3.7.6"
  }
 },
 "nbformat": 4,
 "nbformat_minor": 4
}
